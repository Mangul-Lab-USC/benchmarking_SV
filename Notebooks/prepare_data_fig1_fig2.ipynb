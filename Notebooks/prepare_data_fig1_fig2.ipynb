{
 "cells": [
  {
   "cell_type": "markdown",
   "metadata": {},
   "source": [
    "# Concatenating all tools and strains at threshold 0, 10, 100, 1000, and 10K"
   ]
  },
  {
   "cell_type": "code",
   "execution_count": 1,
   "metadata": {},
   "outputs": [],
   "source": [
    "import os\n",
    "import allel\n",
    "import pandas as pd\n",
    "\n",
    "\n",
    "strain=['A_J','AKR_J','BALB_CJ','CBA_J','C3H_HeJ','DBA_2J','LP_J']\n",
    "\n",
    "tools=['BioGraph*',\n",
    "'breakdancer',\n",
    "'clever',\n",
    "'delly',\n",
    "'gasv',\n",
    "'gridss',\n",
    "'indelminer',\n",
    "'mistrvar',\n",
    "'pindel',\n",
    "'popdel',\n",
    "'rdxplorer',\n",
    "'smoove',\n",
    "'crest',\n",
    "'genomestrip',\n",
    "'manta_diploidSV',\n",
    "'Tardis']\n"
   ]
  },
  {
   "cell_type": "markdown",
   "metadata": {},
   "source": [
    "## 0 bp Threshold"
   ]
  },
  {
   "cell_type": "code",
   "execution_count": 2,
   "metadata": {},
   "outputs": [
    {
     "name": "stderr",
     "output_type": "stream",
     "text": [
      "/Users/ramayyala/opt/anaconda3/lib/python3.7/site-packages/allel/io/vcf_read.py:1745: UserWarning: multiple INFO headers for 'SVLEN'\n",
      "  warnings.warn('multiple INFO headers for %r' % k)\n"
     ]
    },
    {
     "data": {
      "text/html": [
       "<div>\n",
       "<style scoped>\n",
       "    .dataframe tbody tr th:only-of-type {\n",
       "        vertical-align: middle;\n",
       "    }\n",
       "\n",
       "    .dataframe tbody tr th {\n",
       "        vertical-align: top;\n",
       "    }\n",
       "\n",
       "    .dataframe thead th {\n",
       "        text-align: right;\n",
       "    }\n",
       "</style>\n",
       "<table border=\"1\" class=\"dataframe\">\n",
       "  <thead>\n",
       "    <tr style=\"text-align: right;\">\n",
       "      <th></th>\n",
       "      <th>tool</th>\n",
       "      <th>strain</th>\n",
       "      <th>length</th>\n",
       "      <th>flag</th>\n",
       "      <th>position</th>\n",
       "      <th>threshold</th>\n",
       "    </tr>\n",
       "  </thead>\n",
       "  <tbody>\n",
       "    <tr>\n",
       "      <th>0</th>\n",
       "      <td>Tardis</td>\n",
       "      <td>LP_J</td>\n",
       "      <td>389</td>\n",
       "      <td>FP</td>\n",
       "      <td>3112809</td>\n",
       "      <td>0</td>\n",
       "    </tr>\n",
       "    <tr>\n",
       "      <th>1</th>\n",
       "      <td>Tardis</td>\n",
       "      <td>LP_J</td>\n",
       "      <td>1705</td>\n",
       "      <td>FP</td>\n",
       "      <td>6055228</td>\n",
       "      <td>0</td>\n",
       "    </tr>\n",
       "    <tr>\n",
       "      <th>2</th>\n",
       "      <td>Tardis</td>\n",
       "      <td>LP_J</td>\n",
       "      <td>2445</td>\n",
       "      <td>FP</td>\n",
       "      <td>6055227</td>\n",
       "      <td>0</td>\n",
       "    </tr>\n",
       "    <tr>\n",
       "      <th>3</th>\n",
       "      <td>Tardis</td>\n",
       "      <td>LP_J</td>\n",
       "      <td>582</td>\n",
       "      <td>FP</td>\n",
       "      <td>6057082</td>\n",
       "      <td>0</td>\n",
       "    </tr>\n",
       "    <tr>\n",
       "      <th>4</th>\n",
       "      <td>Tardis</td>\n",
       "      <td>LP_J</td>\n",
       "      <td>140</td>\n",
       "      <td>FP</td>\n",
       "      <td>6829728</td>\n",
       "      <td>0</td>\n",
       "    </tr>\n",
       "  </tbody>\n",
       "</table>\n",
       "</div>"
      ],
      "text/plain": [
       "     tool strain length flag position threshold\n",
       "0  Tardis   LP_J    389   FP  3112809         0\n",
       "1  Tardis   LP_J   1705   FP  6055228         0\n",
       "2  Tardis   LP_J   2445   FP  6055227         0\n",
       "3  Tardis   LP_J    582   FP  6057082         0\n",
       "4  Tardis   LP_J    140   FP  6829728         0"
      ]
     },
     "execution_count": 2,
     "metadata": {},
     "output_type": "execute_result"
    }
   ],
   "source": [
    "#0 threshold deletions\n",
    "\n",
    "th=0\n",
    "df_current = pd.DataFrame(columns=['strain','length','flag','position','threshold'])\n",
    "df_0 = pd.DataFrame(columns=['tool','strain','length','flag','position','threshold'])\n",
    "for s in strain:\n",
    "    for t in tools:\n",
    "        file='../Data/raw_data/mouse/custom_vcf_fulldata/'+str(th)+'t/deletions/nf_'+str(th)+'t.'+t+'.'+s+'.chr19.100p_sorted.modified.vcf'\n",
    "        \n",
    "        callset = allel.read_vcf(file,fields='*')\n",
    "        if callset!=None:\n",
    "            df_current = pd.DataFrame({'tool': t, 'strain': s, 'length': callset['variants/SVLEN'],'flag': callset['variants/FLAG'],'position': callset['variants/POS'],'threshold': th})\n",
    "            df_0 = pd.concat([df_current, df_0],ignore_index=True)   \n",
    "        \n",
    "        else:\n",
    "            print(\"Empty File: \" + file)\n",
    "            \n",
    "df_0.head()"
   ]
  },
  {
   "cell_type": "code",
   "execution_count": 3,
   "metadata": {},
   "outputs": [],
   "source": [
    "tools1=['Tardis']"
   ]
  },
  {
   "cell_type": "code",
   "execution_count": 4,
   "metadata": {
    "scrolled": false
   },
   "outputs": [
    {
     "name": "stderr",
     "output_type": "stream",
     "text": [
      "/Users/ramayyala/opt/anaconda3/lib/python3.7/site-packages/allel/io/vcf_read.py:324: UserWarning: error parsing integer value; field: POS; variant: -1\n",
      "  chunks = [d[0] for d in it]\n",
      "/Users/ramayyala/opt/anaconda3/lib/python3.7/site-packages/allel/io/vcf_read.py:324: UserWarning: error parsing integer value; field: POS; variant: 0\n",
      "  chunks = [d[0] for d in it]\n"
     ]
    },
    {
     "data": {
      "text/html": [
       "<div>\n",
       "<style scoped>\n",
       "    .dataframe tbody tr th:only-of-type {\n",
       "        vertical-align: middle;\n",
       "    }\n",
       "\n",
       "    .dataframe tbody tr th {\n",
       "        vertical-align: top;\n",
       "    }\n",
       "\n",
       "    .dataframe thead th {\n",
       "        text-align: right;\n",
       "    }\n",
       "</style>\n",
       "<table border=\"1\" class=\"dataframe\">\n",
       "  <thead>\n",
       "    <tr style=\"text-align: right;\">\n",
       "      <th></th>\n",
       "      <th>tool</th>\n",
       "      <th>strain</th>\n",
       "      <th>length</th>\n",
       "      <th>flag</th>\n",
       "      <th>position</th>\n",
       "      <th>threshold</th>\n",
       "    </tr>\n",
       "  </thead>\n",
       "  <tbody>\n",
       "    <tr>\n",
       "      <th>0</th>\n",
       "      <td>Tardis</td>\n",
       "      <td>LP_J</td>\n",
       "      <td>2942031</td>\n",
       "      <td>TN</td>\n",
       "      <td>3113197</td>\n",
       "      <td>0</td>\n",
       "    </tr>\n",
       "    <tr>\n",
       "      <th>1</th>\n",
       "      <td>Tardis</td>\n",
       "      <td>LP_J</td>\n",
       "      <td>7962541</td>\n",
       "      <td>TN</td>\n",
       "      <td>8890415</td>\n",
       "      <td>0</td>\n",
       "    </tr>\n",
       "    <tr>\n",
       "      <th>2</th>\n",
       "      <td>Tardis</td>\n",
       "      <td>LP_J</td>\n",
       "      <td>164720</td>\n",
       "      <td>TN</td>\n",
       "      <td>16853151</td>\n",
       "      <td>0</td>\n",
       "    </tr>\n",
       "    <tr>\n",
       "      <th>3</th>\n",
       "      <td>Tardis</td>\n",
       "      <td>LP_J</td>\n",
       "      <td>54579</td>\n",
       "      <td>TN</td>\n",
       "      <td>17020485</td>\n",
       "      <td>0</td>\n",
       "    </tr>\n",
       "    <tr>\n",
       "      <th>4</th>\n",
       "      <td>Tardis</td>\n",
       "      <td>LP_J</td>\n",
       "      <td>54579</td>\n",
       "      <td>TN</td>\n",
       "      <td>17020485</td>\n",
       "      <td>0</td>\n",
       "    </tr>\n",
       "  </tbody>\n",
       "</table>\n",
       "</div>"
      ],
      "text/plain": [
       "     tool strain   length flag  position threshold\n",
       "0  Tardis   LP_J  2942031   TN   3113197         0\n",
       "1  Tardis   LP_J  7962541   TN   8890415         0\n",
       "2  Tardis   LP_J   164720   TN  16853151         0\n",
       "3  Tardis   LP_J    54579   TN  17020485         0\n",
       "4  Tardis   LP_J    54579   TN  17020485         0"
      ]
     },
     "execution_count": 4,
     "metadata": {},
     "output_type": "execute_result"
    }
   ],
   "source": [
    "#0 threshold non-deletions\n",
    "import os\n",
    "\n",
    "th=0\n",
    "df_current = pd.DataFrame(columns=['strain','length','flag','position','threshold'])\n",
    "df_0_nondel = pd.DataFrame(columns=['tool','strain','length','flag','position','threshold'])\n",
    "for s in strain:\n",
    "    for t in tools:\n",
    "        \n",
    "        file='../Data/raw_data/mouse/custom_vcf_fulldata/'+str(th)+'t/non-deletions/nf_'+str(th)+'t.'+t+'.'+s+'.chr19.100p_sorted.modified.nondel.vcf'\n",
    "        \n",
    "        callset = allel.read_vcf(file,fields='*')\n",
    "        if callset!=None:\n",
    "#             print (\"----\")\n",
    "            df_current = pd.DataFrame({'tool': t, 'strain': s, 'length': callset['variants/SVLEN'],'flag': callset['variants/FLAG'],'position': callset['variants/POS'],'threshold': th})\n",
    "            df_0_nondel = pd.concat([df_current, df_0_nondel],ignore_index=True)   \n",
    "            \n",
    "        else:\n",
    "            print(\"Empty File: \" + file)\n",
    "        \n",
    "df_0_nondel.head()"
   ]
  },
  {
   "cell_type": "code",
   "execution_count": 5,
   "metadata": {},
   "outputs": [
    {
     "name": "stdout",
     "output_type": "stream",
     "text": [
      "            tool strain   length flag  position threshold\n",
      "0         Tardis   LP_J  2942031   TN   3113197         0\n",
      "1         Tardis   LP_J  7962541   TN   8890415         0\n",
      "2         Tardis   LP_J   164720   TN  16853151         0\n",
      "3         Tardis   LP_J    54579   TN  17020485         0\n",
      "4         Tardis   LP_J    54579   TN  17020485         0\n",
      "...          ...    ...      ...  ...       ...       ...\n",
      "35261  BioGraph*    A_J    72177   TN  60853125         0\n",
      "35262  BioGraph*    A_J    14570   TN  60934033         0\n",
      "35263  BioGraph*    A_J     5152   TN  61021508         0\n",
      "35264  BioGraph*    A_J    36477   TN  61132293         0\n",
      "35265  BioGraph*    A_J    36477   TN  61132293         0\n",
      "\n",
      "[35266 rows x 6 columns]\n"
     ]
    }
   ],
   "source": [
    "print(df_0_nondel)"
   ]
  },
  {
   "cell_type": "markdown",
   "metadata": {},
   "source": [
    "## 10 bp Threshold"
   ]
  },
  {
   "cell_type": "code",
   "execution_count": 6,
   "metadata": {
    "scrolled": true
   },
   "outputs": [
    {
     "data": {
      "text/html": [
       "<div>\n",
       "<style scoped>\n",
       "    .dataframe tbody tr th:only-of-type {\n",
       "        vertical-align: middle;\n",
       "    }\n",
       "\n",
       "    .dataframe tbody tr th {\n",
       "        vertical-align: top;\n",
       "    }\n",
       "\n",
       "    .dataframe thead th {\n",
       "        text-align: right;\n",
       "    }\n",
       "</style>\n",
       "<table border=\"1\" class=\"dataframe\">\n",
       "  <thead>\n",
       "    <tr style=\"text-align: right;\">\n",
       "      <th></th>\n",
       "      <th>tool</th>\n",
       "      <th>strain</th>\n",
       "      <th>length</th>\n",
       "      <th>flag</th>\n",
       "      <th>position</th>\n",
       "      <th>threshold</th>\n",
       "    </tr>\n",
       "  </thead>\n",
       "  <tbody>\n",
       "    <tr>\n",
       "      <th>0</th>\n",
       "      <td>Tardis</td>\n",
       "      <td>LP_J</td>\n",
       "      <td>389</td>\n",
       "      <td>FP</td>\n",
       "      <td>3112809</td>\n",
       "      <td>10</td>\n",
       "    </tr>\n",
       "    <tr>\n",
       "      <th>1</th>\n",
       "      <td>Tardis</td>\n",
       "      <td>LP_J</td>\n",
       "      <td>1705</td>\n",
       "      <td>FP</td>\n",
       "      <td>6055228</td>\n",
       "      <td>10</td>\n",
       "    </tr>\n",
       "    <tr>\n",
       "      <th>2</th>\n",
       "      <td>Tardis</td>\n",
       "      <td>LP_J</td>\n",
       "      <td>2445</td>\n",
       "      <td>FP</td>\n",
       "      <td>6055227</td>\n",
       "      <td>10</td>\n",
       "    </tr>\n",
       "    <tr>\n",
       "      <th>3</th>\n",
       "      <td>Tardis</td>\n",
       "      <td>LP_J</td>\n",
       "      <td>582</td>\n",
       "      <td>FP</td>\n",
       "      <td>6057082</td>\n",
       "      <td>10</td>\n",
       "    </tr>\n",
       "    <tr>\n",
       "      <th>4</th>\n",
       "      <td>Tardis</td>\n",
       "      <td>LP_J</td>\n",
       "      <td>140</td>\n",
       "      <td>FP</td>\n",
       "      <td>6829728</td>\n",
       "      <td>10</td>\n",
       "    </tr>\n",
       "  </tbody>\n",
       "</table>\n",
       "</div>"
      ],
      "text/plain": [
       "     tool strain length flag position threshold\n",
       "0  Tardis   LP_J    389   FP  3112809        10\n",
       "1  Tardis   LP_J   1705   FP  6055228        10\n",
       "2  Tardis   LP_J   2445   FP  6055227        10\n",
       "3  Tardis   LP_J    582   FP  6057082        10\n",
       "4  Tardis   LP_J    140   FP  6829728        10"
      ]
     },
     "execution_count": 6,
     "metadata": {},
     "output_type": "execute_result"
    }
   ],
   "source": [
    "#10 threshold deletions\n",
    "#missing files: pindel.BALB_CJ, and platypus.BALB_CJ\n",
    "#tools were not able to run on mouse data; ignore?\n",
    "\n",
    "th=10     \n",
    "df_current = pd.DataFrame(columns=['strain','length','flag','position','threshold'])\n",
    "df_10 = pd.DataFrame(columns=['tool','strain','length','flag','position','threshold'])\n",
    "\n",
    "for s in strain:\n",
    "    for t in tools:\n",
    "        file='../Data/raw_data/mouse/custom_vcf_fulldata/'+str(th)+'t/deletions/nf_'+str(th)+'t.'+t+'.'+s+'.chr19.100p_sorted.modified.vcf'\n",
    "        \n",
    "        if os.path.exists(file):\n",
    "            callset = allel.read_vcf(file,fields='*')\n",
    "            if callset!=None:\n",
    "                df_current = pd.DataFrame({'tool': t, 'strain': s, 'length': callset['variants/SVLEN'],'flag': callset['variants/FLAG'],'position': callset['variants/POS'],'threshold': th})\n",
    "                df_10 = pd.concat([df_current, df_10],ignore_index=True)\n",
    "\n",
    "            else:\n",
    "                print(\"Empty File: \" + file)\n",
    "        else:\n",
    "            print(\"Nonexistant File: \" + file)\n",
    "            \n",
    "df_10.head()"
   ]
  },
  {
   "cell_type": "code",
   "execution_count": 7,
   "metadata": {
    "scrolled": true
   },
   "outputs": [
    {
     "data": {
      "text/html": [
       "<div>\n",
       "<style scoped>\n",
       "    .dataframe tbody tr th:only-of-type {\n",
       "        vertical-align: middle;\n",
       "    }\n",
       "\n",
       "    .dataframe tbody tr th {\n",
       "        vertical-align: top;\n",
       "    }\n",
       "\n",
       "    .dataframe thead th {\n",
       "        text-align: right;\n",
       "    }\n",
       "</style>\n",
       "<table border=\"1\" class=\"dataframe\">\n",
       "  <thead>\n",
       "    <tr style=\"text-align: right;\">\n",
       "      <th></th>\n",
       "      <th>tool</th>\n",
       "      <th>strain</th>\n",
       "      <th>length</th>\n",
       "      <th>flag</th>\n",
       "      <th>position</th>\n",
       "      <th>threshold</th>\n",
       "    </tr>\n",
       "  </thead>\n",
       "  <tbody>\n",
       "    <tr>\n",
       "      <th>0</th>\n",
       "      <td>Tardis</td>\n",
       "      <td>LP_J</td>\n",
       "      <td>2942031</td>\n",
       "      <td>TN</td>\n",
       "      <td>3113197</td>\n",
       "      <td>10</td>\n",
       "    </tr>\n",
       "    <tr>\n",
       "      <th>1</th>\n",
       "      <td>Tardis</td>\n",
       "      <td>LP_J</td>\n",
       "      <td>7962541</td>\n",
       "      <td>TN</td>\n",
       "      <td>8890415</td>\n",
       "      <td>10</td>\n",
       "    </tr>\n",
       "    <tr>\n",
       "      <th>2</th>\n",
       "      <td>Tardis</td>\n",
       "      <td>LP_J</td>\n",
       "      <td>164720</td>\n",
       "      <td>TN</td>\n",
       "      <td>16853151</td>\n",
       "      <td>10</td>\n",
       "    </tr>\n",
       "    <tr>\n",
       "      <th>3</th>\n",
       "      <td>Tardis</td>\n",
       "      <td>LP_J</td>\n",
       "      <td>54579</td>\n",
       "      <td>TN</td>\n",
       "      <td>17020485</td>\n",
       "      <td>10</td>\n",
       "    </tr>\n",
       "    <tr>\n",
       "      <th>4</th>\n",
       "      <td>Tardis</td>\n",
       "      <td>LP_J</td>\n",
       "      <td>54579</td>\n",
       "      <td>TN</td>\n",
       "      <td>17020485</td>\n",
       "      <td>10</td>\n",
       "    </tr>\n",
       "  </tbody>\n",
       "</table>\n",
       "</div>"
      ],
      "text/plain": [
       "     tool strain   length flag  position threshold\n",
       "0  Tardis   LP_J  2942031   TN   3113197        10\n",
       "1  Tardis   LP_J  7962541   TN   8890415        10\n",
       "2  Tardis   LP_J   164720   TN  16853151        10\n",
       "3  Tardis   LP_J    54579   TN  17020485        10\n",
       "4  Tardis   LP_J    54579   TN  17020485        10"
      ]
     },
     "execution_count": 7,
     "metadata": {},
     "output_type": "execute_result"
    }
   ],
   "source": [
    "#10 threshold non-deletions\n",
    "th=10     \n",
    "df_current = pd.DataFrame(columns=['strain','length','flag','position','threshold'])\n",
    "df_10_nondel = pd.DataFrame(columns=['tool','strain','length','flag','position','threshold'])\n",
    "\n",
    "for s in strain:\n",
    "    for t in tools:\n",
    "        file='../Data/raw_data/mouse/custom_vcf_fulldata/'+str(th)+'t/non-deletions/nf_'+str(th)+'t.'+t+'.'+s+'.chr19.100p_sorted.modified.nondel.vcf'\n",
    "        \n",
    "        callset = allel.read_vcf(file,fields='*')\n",
    "        if callset!=None:\n",
    "            df_current = pd.DataFrame({'tool': t, 'strain': s, 'length': callset['variants/SVLEN'],'flag': callset['variants/FLAG'],'position': callset['variants/POS'],'threshold': th})\n",
    "            df_10_nondel = pd.concat([df_current, df_10_nondel],ignore_index=True)\n",
    "            \n",
    "        else:\n",
    "            print(\"Empty File: \" + file)\n",
    "            \n",
    "df_10_nondel.head()"
   ]
  },
  {
   "cell_type": "markdown",
   "metadata": {},
   "source": [
    "## 100 bp Threshold"
   ]
  },
  {
   "cell_type": "code",
   "execution_count": 8,
   "metadata": {},
   "outputs": [
    {
     "data": {
      "text/html": [
       "<div>\n",
       "<style scoped>\n",
       "    .dataframe tbody tr th:only-of-type {\n",
       "        vertical-align: middle;\n",
       "    }\n",
       "\n",
       "    .dataframe tbody tr th {\n",
       "        vertical-align: top;\n",
       "    }\n",
       "\n",
       "    .dataframe thead th {\n",
       "        text-align: right;\n",
       "    }\n",
       "</style>\n",
       "<table border=\"1\" class=\"dataframe\">\n",
       "  <thead>\n",
       "    <tr style=\"text-align: right;\">\n",
       "      <th></th>\n",
       "      <th>tool</th>\n",
       "      <th>strain</th>\n",
       "      <th>length</th>\n",
       "      <th>flag</th>\n",
       "      <th>position</th>\n",
       "      <th>threshold</th>\n",
       "    </tr>\n",
       "  </thead>\n",
       "  <tbody>\n",
       "    <tr>\n",
       "      <th>0</th>\n",
       "      <td>Tardis</td>\n",
       "      <td>LP_J</td>\n",
       "      <td>389</td>\n",
       "      <td>FP</td>\n",
       "      <td>3112809</td>\n",
       "      <td>100</td>\n",
       "    </tr>\n",
       "    <tr>\n",
       "      <th>1</th>\n",
       "      <td>Tardis</td>\n",
       "      <td>LP_J</td>\n",
       "      <td>1705</td>\n",
       "      <td>FP</td>\n",
       "      <td>6055228</td>\n",
       "      <td>100</td>\n",
       "    </tr>\n",
       "    <tr>\n",
       "      <th>2</th>\n",
       "      <td>Tardis</td>\n",
       "      <td>LP_J</td>\n",
       "      <td>582</td>\n",
       "      <td>FP</td>\n",
       "      <td>6057082</td>\n",
       "      <td>100</td>\n",
       "    </tr>\n",
       "    <tr>\n",
       "      <th>3</th>\n",
       "      <td>Tardis</td>\n",
       "      <td>LP_J</td>\n",
       "      <td>140</td>\n",
       "      <td>FP</td>\n",
       "      <td>6829728</td>\n",
       "      <td>100</td>\n",
       "    </tr>\n",
       "    <tr>\n",
       "      <th>4</th>\n",
       "      <td>Tardis</td>\n",
       "      <td>LP_J</td>\n",
       "      <td>1922</td>\n",
       "      <td>FP</td>\n",
       "      <td>7215484</td>\n",
       "      <td>100</td>\n",
       "    </tr>\n",
       "  </tbody>\n",
       "</table>\n",
       "</div>"
      ],
      "text/plain": [
       "     tool strain length flag position threshold\n",
       "0  Tardis   LP_J    389   FP  3112809       100\n",
       "1  Tardis   LP_J   1705   FP  6055228       100\n",
       "2  Tardis   LP_J    582   FP  6057082       100\n",
       "3  Tardis   LP_J    140   FP  6829728       100\n",
       "4  Tardis   LP_J   1922   FP  7215484       100"
      ]
     },
     "execution_count": 8,
     "metadata": {},
     "output_type": "execute_result"
    }
   ],
   "source": [
    "#100 threshold deletions\n",
    "#missing files: pindel.BALB_CJ, and platypus.BALB_CJ\n",
    "\n",
    "th=100\n",
    "df_current = pd.DataFrame(columns=['strain','length','flag','position','threshold'])\n",
    "df_100 = pd.DataFrame(columns=['tool','strain','length','flag','position','threshold'])\n",
    "\n",
    "for s in strain:\n",
    "    for t in tools:\n",
    "        file='../Data/raw_data/mouse/custom_vcf_fulldata/'+str(th)+'t/deletions/nf_'+str(th)+'t.'+t+'.'+s+'.chr19.100p_sorted.modified.vcf'\n",
    "        \n",
    "        if os.path.exists(file):\n",
    "            callset = allel.read_vcf(file,fields='*')\n",
    "            if callset!=None:\n",
    "                df_current = pd.DataFrame({'tool': t, 'strain': s, 'length': callset['variants/SVLEN'],'flag': callset['variants/FLAG'],'position': callset['variants/POS'],'threshold': th})\n",
    "                df_100 = pd.concat([df_current, df_100],ignore_index=True)\n",
    "        \n",
    "            else:\n",
    "                print(\"Empty File: \" + file)\n",
    "                \n",
    "        else:\n",
    "            print(\"Nonexistant File: \" + file)\n",
    "            \n",
    "df_100.head()"
   ]
  },
  {
   "cell_type": "code",
   "execution_count": 9,
   "metadata": {},
   "outputs": [
    {
     "data": {
      "text/html": [
       "<div>\n",
       "<style scoped>\n",
       "    .dataframe tbody tr th:only-of-type {\n",
       "        vertical-align: middle;\n",
       "    }\n",
       "\n",
       "    .dataframe tbody tr th {\n",
       "        vertical-align: top;\n",
       "    }\n",
       "\n",
       "    .dataframe thead th {\n",
       "        text-align: right;\n",
       "    }\n",
       "</style>\n",
       "<table border=\"1\" class=\"dataframe\">\n",
       "  <thead>\n",
       "    <tr style=\"text-align: right;\">\n",
       "      <th></th>\n",
       "      <th>tool</th>\n",
       "      <th>strain</th>\n",
       "      <th>length</th>\n",
       "      <th>flag</th>\n",
       "      <th>position</th>\n",
       "      <th>threshold</th>\n",
       "    </tr>\n",
       "  </thead>\n",
       "  <tbody>\n",
       "    <tr>\n",
       "      <th>0</th>\n",
       "      <td>Tardis</td>\n",
       "      <td>LP_J</td>\n",
       "      <td>2942031</td>\n",
       "      <td>TN</td>\n",
       "      <td>3113197</td>\n",
       "      <td>100</td>\n",
       "    </tr>\n",
       "    <tr>\n",
       "      <th>1</th>\n",
       "      <td>Tardis</td>\n",
       "      <td>LP_J</td>\n",
       "      <td>7962541</td>\n",
       "      <td>TN</td>\n",
       "      <td>8890415</td>\n",
       "      <td>100</td>\n",
       "    </tr>\n",
       "    <tr>\n",
       "      <th>2</th>\n",
       "      <td>Tardis</td>\n",
       "      <td>LP_J</td>\n",
       "      <td>164720</td>\n",
       "      <td>TN</td>\n",
       "      <td>16853151</td>\n",
       "      <td>100</td>\n",
       "    </tr>\n",
       "    <tr>\n",
       "      <th>3</th>\n",
       "      <td>Tardis</td>\n",
       "      <td>LP_J</td>\n",
       "      <td>54579</td>\n",
       "      <td>TN</td>\n",
       "      <td>17020485</td>\n",
       "      <td>100</td>\n",
       "    </tr>\n",
       "    <tr>\n",
       "      <th>4</th>\n",
       "      <td>Tardis</td>\n",
       "      <td>LP_J</td>\n",
       "      <td>54579</td>\n",
       "      <td>TN</td>\n",
       "      <td>17020485</td>\n",
       "      <td>100</td>\n",
       "    </tr>\n",
       "  </tbody>\n",
       "</table>\n",
       "</div>"
      ],
      "text/plain": [
       "     tool strain   length flag  position threshold\n",
       "0  Tardis   LP_J  2942031   TN   3113197       100\n",
       "1  Tardis   LP_J  7962541   TN   8890415       100\n",
       "2  Tardis   LP_J   164720   TN  16853151       100\n",
       "3  Tardis   LP_J    54579   TN  17020485       100\n",
       "4  Tardis   LP_J    54579   TN  17020485       100"
      ]
     },
     "execution_count": 9,
     "metadata": {},
     "output_type": "execute_result"
    }
   ],
   "source": [
    "#100 threshold non-deletions\n",
    "\n",
    "th=100     \n",
    "df_current = pd.DataFrame(columns=['strain','length','flag','position','threshold'])\n",
    "df_100_nondel = pd.DataFrame(columns=['tool','strain','length','flag','position','threshold'])\n",
    "\n",
    "for s in strain:\n",
    "    for t in tools:\n",
    "        file='../Data/raw_data/mouse/custom_vcf_fulldata/'+str(th)+'t/non-deletions/nf_'+str(th)+'t.'+t+'.'+s+'.chr19.100p_sorted.modified.nondel.vcf'\n",
    "        callset = allel.read_vcf(file,fields='*')\n",
    "        if callset!=None:\n",
    "            df_current = pd.DataFrame({'tool': t, 'strain': s, 'length': callset['variants/SVLEN'],'flag': callset['variants/FLAG'],'position': callset['variants/POS'],'threshold': th})\n",
    "            df_100_nondel = pd.concat([df_current, df_100_nondel],ignore_index=True)\n",
    "            \n",
    "        else:\n",
    "            print(\"Empty File: \" + file)\n",
    "            \n",
    "df_100_nondel.head()"
   ]
  },
  {
   "cell_type": "markdown",
   "metadata": {},
   "source": [
    "## 1000 bp Threshold"
   ]
  },
  {
   "cell_type": "code",
   "execution_count": null,
   "metadata": {},
   "outputs": [],
   "source": [
    "#1000 threshold deletions\n",
    "#missing files: pindel.BALB_CJ, and platypus.BALB_CJ\n",
    "\n",
    "th=1000    \n",
    "df_current = pd.DataFrame(columns=['strain','length','flag','position','threshold'])\n",
    "df_1000 = pd.DataFrame(columns=['tool','strain','length','flag','position','threshold'])\n",
    "\n",
    "for s in strain:\n",
    "    for t in tools:\n",
    "        file='../Data/raw_data/mouse/custom_vcf_fulldata/'+str(th)+'t/deletions/nf_'+str(th)+'t.'+t+'.'+s+'.chr19.100p_sorted.modified.vcf'\n",
    "        \n",
    "        if os.path.exists(file):\n",
    "            callset = allel.read_vcf(file,fields='*')\n",
    "            if callset!=None:\n",
    "                df_current = pd.DataFrame({'tool': t, 'strain': s, 'length': callset['variants/SVLEN'],'flag': callset['variants/FLAG'],'position': callset['variants/POS'],'threshold': th})\n",
    "                df_1000 = pd.concat([df_current, df_1000],ignore_index=True)\n",
    "            \n",
    "            else:\n",
    "                print(\"Empty File: \" + file)\n",
    "            \n",
    "        else:\n",
    "            print (\"Nonexistant File: \" + file)\n",
    "           \n",
    "\n"
   ]
  },
  {
   "cell_type": "code",
   "execution_count": null,
   "metadata": {},
   "outputs": [],
   "source": [
    "df_1000"
   ]
  },
  {
   "cell_type": "code",
   "execution_count": null,
   "metadata": {},
   "outputs": [],
   "source": [
    "#1000 threshold non-deletions\n",
    "\n",
    "th=1000    \n",
    "df_current = pd.DataFrame(columns=['strain','length','flag','position','threshold'])\n",
    "df_1000_nondel = pd.DataFrame(columns=['tool','strain','length','flag','position','threshold'])\n",
    "\n",
    "for s in strain:\n",
    "    for t in tools:\n",
    "        file='../Data/raw_data/mouse/custom_vcf_fulldata/'+str(th)+'t/non-deletions/nf_'+str(th)+'t.'+t+'.'+s+'.chr19.100p_sorted.modified.nondel.vcf'\n",
    "        \n",
    "        \n",
    "        callset = allel.read_vcf(file,fields='*')\n",
    "        if callset!=None:\n",
    "            df_current = pd.DataFrame({'tool': t, 'strain': s, 'length': callset['variants/SVLEN'],'flag': callset['variants/FLAG'],'position': callset['variants/POS'],'threshold': th})\n",
    "            df_1000_nondel = pd.concat([df_current, df_1000_nondel],ignore_index=True)\n",
    "            \n",
    "        else:\n",
    "            print(\"Empty File: \" + file)\n",
    "        \n",
    "df_1000_nondel.head()\n",
    "\n"
   ]
  },
  {
   "cell_type": "markdown",
   "metadata": {},
   "source": [
    "## 10000 bp Threshold"
   ]
  },
  {
   "cell_type": "code",
   "execution_count": null,
   "metadata": {},
   "outputs": [],
   "source": [
    "#10000 threshold deletions\n",
    "#missing files: pindel.BALB_CJ, and platypus.BALB_CJ\n",
    "\n",
    "th=10000    \n",
    "df_current = pd.DataFrame(columns=['strain','length','flag','position','threshold'])\n",
    "df_10000 = pd.DataFrame(columns=['tool','strain','length','flag','position','threshold'])\n",
    "\n",
    "for s in strain:\n",
    "    for t in tools:\n",
    "        file='../Data/raw_data/mouse/custom_vcf_fulldata/'+str(th)+'t/deletions/nf_'+str(th)+'t.'+t+'.'+s+'.chr19.100p_sorted.modified.vcf'\n",
    "        \n",
    "        if os.path.exists(file):\n",
    "            callset = allel.read_vcf(file,fields='*')\n",
    "            if callset!=None:\n",
    "                df_current = pd.DataFrame({'tool': t, 'strain': s, 'length': callset['variants/SVLEN'],'flag': callset['variants/FLAG'],'position': callset['variants/POS'],'threshold': th})\n",
    "                df_10000 = pd.concat([df_current, df_10000],ignore_index=True)\n",
    "            \n",
    "            else:\n",
    "                print(\"Empty File: \" + file)\n",
    "                \n",
    "        else:\n",
    "            print(\"Nonexistant File: \" + file)\n",
    "        \n",
    "df_10000.head()\n"
   ]
  },
  {
   "cell_type": "code",
   "execution_count": null,
   "metadata": {
    "scrolled": true
   },
   "outputs": [],
   "source": [
    "#10000 threshold non-deletions\n",
    "\n",
    "th=10000    \n",
    "df_current = pd.DataFrame(columns=['strain','length','flag','position','threshold'])\n",
    "df_10000_nondel = pd.DataFrame(columns=['tool','strain','length','flag','position','threshold'])\n",
    "\n",
    "for s in strain:\n",
    "    for t in tools:\n",
    "        file='../Data/raw_data/mouse/custom_vcf_fulldata/'+str(th)+'t/non-deletions/nf_'+str(th)+'t.'+t+'.'+s+'.chr19.100p_sorted.modified.nondel.vcf'\n",
    "        \n",
    "        \n",
    "        callset = allel.read_vcf(file,fields='*')\n",
    "#         print(callset)\n",
    "        if callset!=None:\n",
    "            df_current = pd.DataFrame({'tool': t, 'strain': s, 'length': callset['variants/SVLEN'],'flag': callset['variants/FLAG'],'position': callset['variants/POS'],'threshold': th})\n",
    "            df_10000_nondel = pd.concat([df_current, df_10000_nondel],ignore_index=True)\n",
    "        else:\n",
    "            print(\"Empty File: \" + file)\n",
    "                \n",
    "    else:\n",
    "        print(\"Nonexistant File: \" + file)\n",
    "                   \n",
    "        \n",
    "df_10000_nondel.head()\n"
   ]
  },
  {
   "cell_type": "code",
   "execution_count": null,
   "metadata": {},
   "outputs": [],
   "source": [
    "print(df_10000_nondel)"
   ]
  },
  {
   "cell_type": "code",
   "execution_count": null,
   "metadata": {},
   "outputs": [],
   "source": [
    "%store df_10\n",
    "%store df_100\n",
    "%store df_1000\n",
    "%store df_10000\n",
    "%store df_10_nondel\n",
    "%store df_100_nondel\n",
    "%store df_1000_nondel\n",
    "%store df_10000_nondel"
   ]
  },
  {
   "cell_type": "code",
   "execution_count": null,
   "metadata": {},
   "outputs": [],
   "source": [
    "df_10.to_csv('../Data/analysis_files/df_10.csv')\n",
    "df_100.to_csv('../Data/analysis_files/df_100.csv')\n",
    "df_1000.to_csv('../Data/analysis_files/df_1000.csv')\n",
    "df_10000.to_csv('../Data/analysis_files/df_10000.csv')\n",
    "\n",
    "df_10_nondel.to_csv('../Data/analysis_files/df_10_nondel.csv')\n",
    "df_100_nondel.to_csv('../Data/analysis_files/df_100_nondel.csv')\n",
    "df_1000_nondel.to_csv('../Data/analysis_files/df_1000_nondel.csv')\n",
    "df_10000_nondel.to_csv('../Data/analysis_files/df_10000_nondel.csv')\n"
   ]
  },
  {
   "cell_type": "markdown",
   "metadata": {},
   "source": [
    "## Concatenate"
   ]
  },
  {
   "cell_type": "code",
   "execution_count": null,
   "metadata": {},
   "outputs": [],
   "source": [
    "#List of your dataframes\n",
    "#removed df_0 and df_0_nondel for graphing purposes\n",
    "pdList = [df_10,df_100,df_1000,df_10000,df_10_nondel,df_100_nondel,df_1000_nondel,df_10000_nondel] \n",
    "df_cat = pd.concat(pdList)"
   ]
  },
  {
   "cell_type": "code",
   "execution_count": null,
   "metadata": {},
   "outputs": [],
   "source": [
    "df_cat.head()"
   ]
  },
  {
   "cell_type": "code",
   "execution_count": null,
   "metadata": {},
   "outputs": [],
   "source": [
    "#output counts for TP, FP, TN rows are not the same as Varuni's; due to missing files?\n",
    "group_data_TP=df_cat[df_cat['flag'] == 'TP'].groupby(['tool','threshold','strain'],as_index=False)['flag'].count()\n",
    "group_data_TP=group_data_TP.rename(columns={\"flag\": \"nTP\"})\n",
    "group_data_TP.shape"
   ]
  },
  {
   "cell_type": "code",
   "execution_count": null,
   "metadata": {},
   "outputs": [],
   "source": [
    "group_data_TP.head(20)"
   ]
  },
  {
   "cell_type": "code",
   "execution_count": null,
   "metadata": {},
   "outputs": [],
   "source": [
    "group_data_FP=df_cat[df_cat['flag'] == 'FP'].groupby(['tool','threshold','strain'],as_index=False)['flag'].count()\n",
    "group_data_FP=group_data_FP.rename(columns={\"flag\": \"nFP\"})\n",
    "group_data_FP.shape"
   ]
  },
  {
   "cell_type": "code",
   "execution_count": null,
   "metadata": {},
   "outputs": [],
   "source": [
    "group_data_FP.head()"
   ]
  },
  {
   "cell_type": "code",
   "execution_count": null,
   "metadata": {},
   "outputs": [],
   "source": [
    "group_data_TN=df_cat[df_cat['flag'] == 'TN'].groupby(['tool','threshold','strain'],as_index=False)['flag'].count()\n",
    "group_data_TN=group_data_TN.rename(columns={\"flag\": \"nTN\"})\n",
    "group_data_TN.shape"
   ]
  },
  {
   "cell_type": "code",
   "execution_count": null,
   "metadata": {},
   "outputs": [],
   "source": [
    "#fill missing combinations with 0s\n",
    "#removed 0 threshold group since it = 0 for all tools\n",
    "for s in strain:\n",
    "    for t in tools:\n",
    "        for th in [10,100,1000,10000]:\n",
    "            if not (((group_data_TP['tool'] == t) & (group_data_TP['strain'] == s) & (group_data_TP['threshold'] == th)).any()):\n",
    "                group_data_TP = group_data_TP.append({'tool' : t , 'strain' : s,'threshold' : th,'nTP' : 0} , ignore_index=True)\n",
    "group_data_TP.shape"
   ]
  },
  {
   "cell_type": "code",
   "execution_count": null,
   "metadata": {},
   "outputs": [],
   "source": [
    "for s in strain:\n",
    "    for t in tools:\n",
    "        for th in [10,100,1000,10000]:\n",
    "            if not (((group_data_FP['tool'] == t) & (group_data_FP['strain'] == s) & (group_data_FP['threshold'] == th)).any()):\n",
    "                #group_data_FP = group_data_FP.append({'tool' : t , 'strain' : s,'threshold' : th,'nFP' : 0} , ignore_index=True)\n",
    "                print (s,t,th)\n",
    "group_data_FP.shape"
   ]
  },
  {
   "cell_type": "code",
   "execution_count": null,
   "metadata": {},
   "outputs": [],
   "source": [
    "for s in strain:\n",
    "    for t in tools:\n",
    "        for th in [10,100,1000,10000]:\n",
    "            if not (((group_data_TN['tool'] == t) & (group_data_TN['strain'] == s) & (group_data_TN['threshold'] == th)).any()):\n",
    "                group_data_TN = group_data_TN.append({'tool' : t , 'strain' : s,'threshold' : th,'nTN' : 0} , ignore_index=True)\n",
    "                #print (s,t,th)\n",
    "group_data_TN.shape"
   ]
  },
  {
   "cell_type": "code",
   "execution_count": null,
   "metadata": {},
   "outputs": [],
   "source": [
    "#merge TP and FP\n",
    "df_merge=pd.merge(group_data_TP, group_data_FP,on=['tool','threshold','strain'])\n",
    "df_merge=pd.merge(df_merge, group_data_TN,on=['tool','threshold','strain'])\n",
    "df_merge.shape"
   ]
  },
  {
   "cell_type": "code",
   "execution_count": null,
   "metadata": {},
   "outputs": [],
   "source": [
    "df_merge.head(10)"
   ]
  },
  {
   "cell_type": "code",
   "execution_count": null,
   "metadata": {},
   "outputs": [],
   "source": [
    "#true SV deletions\n",
    "df_current = pd.DataFrame(columns=['strain','length'])\n",
    "df = pd.DataFrame(columns=['strain','length'])\n",
    "\n",
    "\n",
    "for s in strain:\n",
    "    file='../Data/gold_standard/mouse_vcf/'+s+'_reference.vcf'\n",
    "    callset = allel.read_vcf(file,fields='*')\n",
    "    \n",
    "    df_current = pd.DataFrame({'strain': s, 'length': callset['variants/SVLEN']})\n",
    "    df = pd.concat([df_current, df],ignore_index=True)\n",
    "group_data_true = df.groupby(['strain'],as_index=False).count()\n",
    "group_data_true=group_data_true.rename(columns={\"length\": \"n_true\"})\n",
    "group_data_true"
   ]
  },
  {
   "cell_type": "code",
   "execution_count": null,
   "metadata": {},
   "outputs": [],
   "source": [
    "df_merge=pd.merge(df_merge, group_data_true)\n",
    "df_merge.shape"
   ]
  },
  {
   "cell_type": "code",
   "execution_count": null,
   "metadata": {},
   "outputs": [],
   "source": [
    "df_merge"
   ]
  },
  {
   "cell_type": "markdown",
   "metadata": {},
   "source": [
    "## Calculating precision, sensitivity, specificity, f-score"
   ]
  },
  {
   "cell_type": "code",
   "execution_count": null,
   "metadata": {},
   "outputs": [],
   "source": [
    "df_merge['nFN']=df_merge['n_true']-df_merge['nTP']\n",
    "\n",
    "df_merge['sensitivity']=df_merge['nTP']/df_merge['n_true']\n",
    "df_merge['precision']=df_merge['nTP']/(df_merge['nTP']+df_merge['nFP'])\n",
    "df_merge['specificity']=df_merge['nTN']/(df_merge['nTN']+df_merge['nFP'])\n",
    "df_merge['f-score']=2*(df_merge['sensitivity']*df_merge['precision'])/(df_merge['sensitivity']+df_merge['precision']+0.00000001)\n",
    "df_merge.head()"
   ]
  },
  {
   "cell_type": "code",
   "execution_count": null,
   "metadata": {},
   "outputs": [],
   "source": [
    "#count number of TP/FP/TN/FN for each tool at each threshold\n",
    "df_sum=df_merge.groupby(['tool','threshold'],as_index=False)['nTP','nFP','nFN','nTN'].sum()\n",
    "df_sum.head(10)"
   ]
  },
  {
   "cell_type": "code",
   "execution_count": null,
   "metadata": {},
   "outputs": [],
   "source": [
    "%store df_sum"
   ]
  },
  {
   "cell_type": "code",
   "execution_count": null,
   "metadata": {},
   "outputs": [],
   "source": [
    "df_sum.to_csv('../Data/analysis_files/df_sum.csv')"
   ]
  },
  {
   "cell_type": "code",
   "execution_count": null,
   "metadata": {},
   "outputs": [],
   "source": [
    "df_merge.to_csv('../Data/analysis_files/df_merged.csv')"
   ]
  },
  {
   "cell_type": "code",
   "execution_count": null,
   "metadata": {},
   "outputs": [],
   "source": [
    "df_merge.head()"
   ]
  },
  {
   "cell_type": "code",
   "execution_count": null,
   "metadata": {},
   "outputs": [],
   "source": []
  },
  {
   "cell_type": "code",
   "execution_count": null,
   "metadata": {},
   "outputs": [],
   "source": []
  }
 ],
 "metadata": {
  "kernelspec": {
   "display_name": "Python 3",
   "language": "python",
   "name": "python3"
  },
  "language_info": {
   "codemirror_mode": {
    "name": "ipython",
    "version": 3
   },
   "file_extension": ".py",
   "mimetype": "text/x-python",
   "name": "python",
   "nbconvert_exporter": "python",
   "pygments_lexer": "ipython3",
   "version": "3.7.6"
  }
 },
 "nbformat": 4,
 "nbformat_minor": 2
}
