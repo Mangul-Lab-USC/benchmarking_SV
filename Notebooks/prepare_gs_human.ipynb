{
  "nbformat": 4,
  "nbformat_minor": 0,
  "metadata": {
    "colab": {
      "name": "prepare_gs.ipynb",
      "provenance": []
    },
    "kernelspec": {
      "name": "python3",
      "display_name": "Python 3"
    },
    "language_info": {
      "name": "python"
    }
  },
  "cells": [
    {
      "cell_type": "code",
      "metadata": {
        "id": "H6lGLjkptZRo",
        "colab": {
          "base_uri": "https://localhost:8080/"
        },
        "outputId": "22f4bfbc-bf48-4ee0-d790-eb66c5c75be0"
      },
      "source": [
        "import csv \n",
        "import sys\n",
        " \n",
        "    \n",
        "length_gold=[]    \n",
        "    \n",
        "f = open('/content/drive/MyDrive/SV_Callers/MK_tools/STANDARD_HIGHCONF_HG002_SVs_Tier1_v0.6_DEL_PASS_XY.vcf')\n",
        "reader = csv.reader(f,delimiter='\\t')\n",
        "for row in reader:\n",
        "    if(((row[0])[0])!='#'):\n",
        "        l=int(row[7].split(';')[1].split('=')[1])\n",
        "        length_gold.append(l)\n",
        "f.close()\n",
        "\n",
        "print(len(length_gold))"
      ],
      "execution_count": null,
      "outputs": [
        {
          "output_type": "stream",
          "text": [
            "4120\n"
          ],
          "name": "stdout"
        }
      ]
    },
    {
      "cell_type": "code",
      "metadata": {
        "id": "snxCE6hUWe4g"
      },
      "source": [
        "strain=[]\n",
        "lent=[]\n",
        "n_true=[]\n",
        "for i in range(len(length_gold)):\n",
        "  x=length_gold[i]\n",
        "  if(x>50):\n",
        "    if x >= 50 and x < 100:\n",
        "      l=\"50-100\"\n",
        "    elif x >= 100 and x < 500:\n",
        "      l=\"100-500\"\n",
        "    elif x >= 500 and x < 1000:\n",
        "      l=\"500-1000\"\n",
        "    elif x > 1000:\n",
        "      l=\"1000+\"\n",
        "  lent.append(l)\n",
        "  n_true.append(1)\n",
        "  strain.append('human')"
      ],
      "execution_count": null,
      "outputs": []
    },
    {
      "cell_type": "code",
      "metadata": {
        "colab": {
          "base_uri": "https://localhost:8080/",
          "height": 363
        },
        "id": "X1r7zNayaYbi",
        "outputId": "5ca6564c-a949-4dc5-c973-945417deff60"
      },
      "source": [
        "import pandas as pd\n",
        "\n",
        "df_gs=pd.DataFrame(list(zip(strain,lent,n_true)),columns=['strain','len','n_true'])\n",
        "df_gs.head(10)"
      ],
      "execution_count": null,
      "outputs": [
        {
          "output_type": "execute_result",
          "data": {
            "text/html": [
              "<div>\n",
              "<style scoped>\n",
              "    .dataframe tbody tr th:only-of-type {\n",
              "        vertical-align: middle;\n",
              "    }\n",
              "\n",
              "    .dataframe tbody tr th {\n",
              "        vertical-align: top;\n",
              "    }\n",
              "\n",
              "    .dataframe thead th {\n",
              "        text-align: right;\n",
              "    }\n",
              "</style>\n",
              "<table border=\"1\" class=\"dataframe\">\n",
              "  <thead>\n",
              "    <tr style=\"text-align: right;\">\n",
              "      <th></th>\n",
              "      <th>strain</th>\n",
              "      <th>len</th>\n",
              "      <th>n_true</th>\n",
              "    </tr>\n",
              "  </thead>\n",
              "  <tbody>\n",
              "    <tr>\n",
              "      <th>0</th>\n",
              "      <td>human</td>\n",
              "      <td>50-100</td>\n",
              "      <td>1</td>\n",
              "    </tr>\n",
              "    <tr>\n",
              "      <th>1</th>\n",
              "      <td>human</td>\n",
              "      <td>1000+</td>\n",
              "      <td>1</td>\n",
              "    </tr>\n",
              "    <tr>\n",
              "      <th>2</th>\n",
              "      <td>human</td>\n",
              "      <td>100-500</td>\n",
              "      <td>1</td>\n",
              "    </tr>\n",
              "    <tr>\n",
              "      <th>3</th>\n",
              "      <td>human</td>\n",
              "      <td>500-1000</td>\n",
              "      <td>1</td>\n",
              "    </tr>\n",
              "    <tr>\n",
              "      <th>4</th>\n",
              "      <td>human</td>\n",
              "      <td>50-100</td>\n",
              "      <td>1</td>\n",
              "    </tr>\n",
              "    <tr>\n",
              "      <th>5</th>\n",
              "      <td>human</td>\n",
              "      <td>50-100</td>\n",
              "      <td>1</td>\n",
              "    </tr>\n",
              "    <tr>\n",
              "      <th>6</th>\n",
              "      <td>human</td>\n",
              "      <td>50-100</td>\n",
              "      <td>1</td>\n",
              "    </tr>\n",
              "    <tr>\n",
              "      <th>7</th>\n",
              "      <td>human</td>\n",
              "      <td>100-500</td>\n",
              "      <td>1</td>\n",
              "    </tr>\n",
              "    <tr>\n",
              "      <th>8</th>\n",
              "      <td>human</td>\n",
              "      <td>50-100</td>\n",
              "      <td>1</td>\n",
              "    </tr>\n",
              "    <tr>\n",
              "      <th>9</th>\n",
              "      <td>human</td>\n",
              "      <td>50-100</td>\n",
              "      <td>1</td>\n",
              "    </tr>\n",
              "  </tbody>\n",
              "</table>\n",
              "</div>"
            ],
            "text/plain": [
              "  strain       len  n_true\n",
              "0  human    50-100       1\n",
              "1  human     1000+       1\n",
              "2  human   100-500       1\n",
              "3  human  500-1000       1\n",
              "4  human    50-100       1\n",
              "5  human    50-100       1\n",
              "6  human    50-100       1\n",
              "7  human   100-500       1\n",
              "8  human    50-100       1\n",
              "9  human    50-100       1"
            ]
          },
          "metadata": {
            "tags": []
          },
          "execution_count": 5
        }
      ]
    },
    {
      "cell_type": "code",
      "metadata": {
        "colab": {
          "base_uri": "https://localhost:8080/"
        },
        "id": "TGKktosoblwN",
        "outputId": "331f8668-4842-4103-a727-efd4a358895c"
      },
      "source": [
        "gs_ = df_gs.groupby(['strain','len'])['n_true'].sum().reset_index()\n",
        "print(gs_)\n",
        "gs_.to_csv('/content/drive/MyDrive/SV_Callers/DFiltered/gs_.csv')"
      ],
      "execution_count": null,
      "outputs": [
        {
          "output_type": "stream",
          "text": [
            "  strain       len  n_true\n",
            "0  human   100-500    2031\n",
            "1  human     1000+     526\n",
            "2  human    50-100    1360\n",
            "3  human  500-1000     203\n"
          ],
          "name": "stdout"
        }
      ]
    }
  ]
}