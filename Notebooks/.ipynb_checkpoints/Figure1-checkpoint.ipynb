{
 "cells": [
  {
   "cell_type": "code",
   "execution_count": 56,
   "metadata": {},
   "outputs": [],
   "source": [
    "#conda install -c conda-forge scikit-allel\n",
    "import pandas as pd\n",
    "import allel\n",
    "import numpy as np\n",
    "import matplotlib.pyplot as plt\n",
    "import seaborn as sns"
   ]
  },
  {
   "cell_type": "code",
   "execution_count": 57,
   "metadata": {},
   "outputs": [],
   "source": [
    "#deletions for this project are across seven inbred mouse strains; underscore used in place of /\n",
    "strain=['A_J','AKR_J','BALB_CJ','CBA_J','C3H_HeJ','DBA_2J','LP_J']"
   ]
  },
  {
   "cell_type": "code",
   "execution_count": 58,
   "metadata": {},
   "outputs": [],
   "source": [
    "df_current = pd.DataFrame(columns=['strain','length'])\n",
    "df = pd.DataFrame(columns=['strain','length'])\n",
    "\n",
    "\n",
    "for s in strain:\n",
    "    file='../Data/gold_standard/mouse_vcf/'+s+'_reference.vcf'\n",
    "    callset = allel.read_vcf(file,fields='*')\n",
    "    \n",
    "    df_current = pd.DataFrame({'strain': s, 'length': callset['variants/SVLEN']})\n",
    "    df = pd.concat([df_current, df],ignore_index=True)"
   ]
  },
  {
   "cell_type": "code",
   "execution_count": 59,
   "metadata": {},
   "outputs": [],
   "source": [
    "df['length']=pd.to_numeric(df['length'])"
   ]
  },
  {
   "cell_type": "code",
   "execution_count": 60,
   "metadata": {},
   "outputs": [],
   "source": [
    "df.to_csv('../Data/analysis_files/true_length_7_strains.csv',index=False)"
   ]
  },
  {
   "cell_type": "markdown",
   "metadata": {},
   "source": [
    "# Figure 1a"
   ]
  },
  {
   "cell_type": "code",
   "execution_count": 61,
   "metadata": {},
   "outputs": [
    {
     "name": "stderr",
     "output_type": "stream",
     "text": [
      "The PostScript backend does not support transparency; partially transparent artists will be rendered opaque.\n",
      "The PostScript backend does not support transparency; partially transparent artists will be rendered opaque.\n",
      "The PostScript backend does not support transparency; partially transparent artists will be rendered opaque.\n",
      "The PostScript backend does not support transparency; partially transparent artists will be rendered opaque.\n",
      "The PostScript backend does not support transparency; partially transparent artists will be rendered opaque.\n",
      "The PostScript backend does not support transparency; partially transparent artists will be rendered opaque.\n",
      "The PostScript backend does not support transparency; partially transparent artists will be rendered opaque.\n"
     ]
    },
    {
     "data": {
      "image/png": "[encoded data removed]",
      "text/plain": [
       "<Figure size 648x360 with 1 Axes>"
      ]
     },
     "metadata": {},
     "output_type": "display_data"
    }
   ],
   "source": [
    "#average deletion length by mouse strain\n",
    "fig1a=sns.set_style('white')\n",
    "fig1a=sns.set_context('talk')\n",
    "fig1a = sns.catplot(x='strain', y='length',kind='boxen',data=df, aspect=1.8,palette='Greys', order=['A_J', 'AKR_J', 'BALB_CJ', 'CBA_J', 'C3H_HeJ', 'DBA_2J', 'LP_J'])\n",
    "fig1a.set(yscale='log');\n",
    "fig1a.set(xlabel='', ylabel='Deletion Length (bp)')\n",
    "fig1a=sns.despine()\n",
    "plt.xticks(rotation=90)\n",
    "sns.set(font_scale = 2)\n",
    "plt.savefig(\"../Figures/fig1/mouse/fig1a.svg\")\n",
    "plt.savefig(\"../Figures/fig1/mouse/fig1a.eps\")\n",
    "plt.savefig(\"../Figures/fig1/mouse/fig1a\", bbox_inches='tight')\n",
    "plt.savefig(\"../Figures/fig1/mouse/fig1a.pdf\", bbox_inches='tight')"
   ]
  },
  {
   "cell_type": "code",
   "execution_count": 62,
   "metadata": {
    "scrolled": true
   },
   "outputs": [
    {
     "name": "stdout",
     "output_type": "stream",
     "text": [
      "Number of SVs for 7 strains: 3799\n"
     ]
    }
   ],
   "source": [
    "count_row = df.shape[0]\n",
    "print (\"Number of SVs for 7 strains:\",count_row)"
   ]
  },
  {
   "cell_type": "code",
   "execution_count": 63,
   "metadata": {},
   "outputs": [
    {
     "name": "stdout",
     "output_type": "stream",
     "text": [
      "Max deletion length\n"
     ]
    },
    {
     "data": {
      "text/plain": [
       "strain      LP_J\n",
       "length    239572\n",
       "dtype: object"
      ]
     },
     "execution_count": 63,
     "metadata": {},
     "output_type": "execute_result"
    }
   ],
   "source": [
    "print (\"Max deletion length\")\n",
    "df.max()"
   ]
  },
  {
   "cell_type": "code",
   "execution_count": 64,
   "metadata": {},
   "outputs": [
    {
     "name": "stdout",
     "output_type": "stream",
     "text": [
      "length    1633.024217\n",
      "dtype: float64 length    7285.812215\n",
      "dtype: float64\n"
     ]
    }
   ],
   "source": [
    "print (df.mean(),df.std())"
   ]
  },
  {
   "cell_type": "code",
   "execution_count": 65,
   "metadata": {},
   "outputs": [
    {
     "name": "stdout",
     "output_type": "stream",
     "text": [
      "n    542.714286\n",
      "dtype: float64 n    43.675753\n",
      "dtype: float64\n"
     ]
    }
   ],
   "source": [
    "deletions_per_strain=df.groupby(['strain']).count()\n",
    "deletions_per_strain=deletions_per_strain.rename(columns={'length': 'n', 'B': 'c'})\n",
    "deletions_per_strain.head()\n",
    "deletions_per_strain.to_csv('../Data/analysis_files/SV_deletions_per_strain.csv')\n",
    "print(deletions_per_strain.mean(),deletions_per_strain.std())"
   ]
  },
  {
   "cell_type": "code",
   "execution_count": 66,
   "metadata": {},
   "outputs": [],
   "source": [
    "df_50_100=df.loc[(df['length'] > 50) & (df['length'] <= 100)]\n",
    "df_100_500=df.loc[(df['length'] > 100) & (df['length'] <= 500)]\n",
    "df_500_1000=df.loc[(df['length'] > 500) & (df['length'] <=1000)]\n",
    "df_1000=df.loc[(df['length'] >1000)]"
   ]
  },
  {
   "cell_type": "code",
   "execution_count": 67,
   "metadata": {},
   "outputs": [],
   "source": [
    "count_row_50_100 = df_50_100.shape[0]\n",
    "count_row_100_500 = df_100_500.shape[0]\n",
    "count_row_500_1000 = df_500_1000.shape[0]\n",
    "count_row_1000 = df_1000.shape[0]\n",
    "\n",
    "f=open('../Data/analysis_files/true_number_SVs_by_category.csv','w')\n",
    "f.write('cat,n')\n",
    "f.write('\\n')\n",
    "f.write('50-100,'+str(count_row_50_100))\n",
    "f.write('\\n')\n",
    "f.write('100-500,'+str(count_row_100_500))\n",
    "f.write('\\n')\n",
    "f.write('500-1000,'+str(count_row_500_1000))\n",
    "f.write('\\n')\n",
    "f.write('>1000,'+str(count_row_1000))\n",
    "f.write('\\n')\n",
    "f.close()"
   ]
  },
  {
   "cell_type": "code",
   "execution_count": 68,
   "metadata": {},
   "outputs": [
    {
     "name": "stdout",
     "output_type": "stream",
     "text": [
      "Stored 'df_cat' (DataFrame)\n"
     ]
    }
   ],
   "source": [
    "df_cat=pd.read_csv('../Data/analysis_files/true_number_SVs_by_category.csv')\n",
    "df_cat['precision']=(df_cat['n']/3710)*100\n",
    "df_cat.head()\n",
    "%store df_cat"
   ]
  },
  {
   "cell_type": "code",
   "execution_count": 69,
   "metadata": {},
   "outputs": [],
   "source": [
    "strain=['A_J','AKR_J','BALB_CJ','CBA_J','C3H_HeJ','DBA_2J','LP_J']\n",
    "\n",
    "#total tools=15\n",
    "tools=['BioGraph*',\n",
    "'breakdancer',\n",
    "'clever',\n",
    "'delly',\n",
    "'gasv',\n",
    "'gridss',\n",
    "'indelminer',\n",
    "'mistrvar',\n",
    "'pindel',\n",
    "'popdel',\n",
    "'rdxplorer',\n",
    "'smoove',\n",
    "'crest',\n",
    "'genomestrip',\n",
    "'manta_diploidSV',\n",
    "'Tardis']"
   ]
  },
  {
   "cell_type": "code",
   "execution_count": 70,
   "metadata": {},
   "outputs": [
    {
     "name": "stderr",
     "output_type": "stream",
     "text": [
      "/Users/ramayyala/opt/anaconda3/lib/python3.7/site-packages/allel/io/vcf_read.py:1745: UserWarning: multiple INFO headers for 'SVLEN'\n",
      "  warnings.warn('multiple INFO headers for %r' % k)\n",
      "/Users/ramayyala/opt/anaconda3/lib/python3.7/site-packages/allel/io/vcf_read.py:1745: UserWarning: multiple INFO headers for 'SVLEN'\n",
      "  warnings.warn('multiple INFO headers for %r' % k)\n",
      "/Users/ramayyala/opt/anaconda3/lib/python3.7/site-packages/allel/io/vcf_read.py:1745: UserWarning: multiple INFO headers for 'SVLEN'\n",
      "  warnings.warn('multiple INFO headers for %r' % k)\n",
      "/Users/ramayyala/opt/anaconda3/lib/python3.7/site-packages/allel/io/vcf_read.py:1745: UserWarning: multiple INFO headers for 'SVLEN'\n",
      "  warnings.warn('multiple INFO headers for %r' % k)\n",
      "/Users/ramayyala/opt/anaconda3/lib/python3.7/site-packages/allel/io/vcf_read.py:1745: UserWarning: multiple INFO headers for 'SVLEN'\n",
      "  warnings.warn('multiple INFO headers for %r' % k)\n",
      "/Users/ramayyala/opt/anaconda3/lib/python3.7/site-packages/allel/io/vcf_read.py:1745: UserWarning: multiple INFO headers for 'SVLEN'\n",
      "  warnings.warn('multiple INFO headers for %r' % k)\n",
      "/Users/ramayyala/opt/anaconda3/lib/python3.7/site-packages/allel/io/vcf_read.py:1745: UserWarning: multiple INFO headers for 'SVLEN'\n",
      "  warnings.warn('multiple INFO headers for %r' % k)\n",
      "/Users/ramayyala/opt/anaconda3/lib/python3.7/site-packages/allel/io/vcf_read.py:1745: UserWarning: multiple INFO headers for 'SVLEN'\n",
      "  warnings.warn('multiple INFO headers for %r' % k)\n",
      "/Users/ramayyala/opt/anaconda3/lib/python3.7/site-packages/allel/io/vcf_read.py:1745: UserWarning: multiple INFO headers for 'SVLEN'\n",
      "  warnings.warn('multiple INFO headers for %r' % k)\n",
      "/Users/ramayyala/opt/anaconda3/lib/python3.7/site-packages/allel/io/vcf_read.py:1745: UserWarning: multiple INFO headers for 'SVLEN'\n",
      "  warnings.warn('multiple INFO headers for %r' % k)\n",
      "/Users/ramayyala/opt/anaconda3/lib/python3.7/site-packages/allel/io/vcf_read.py:1745: UserWarning: multiple INFO headers for 'SVLEN'\n",
      "  warnings.warn('multiple INFO headers for %r' % k)\n",
      "/Users/ramayyala/opt/anaconda3/lib/python3.7/site-packages/allel/io/vcf_read.py:1745: UserWarning: multiple INFO headers for 'SVLEN'\n",
      "  warnings.warn('multiple INFO headers for %r' % k)\n",
      "/Users/ramayyala/opt/anaconda3/lib/python3.7/site-packages/allel/io/vcf_read.py:1745: UserWarning: multiple INFO headers for 'SVLEN'\n",
      "  warnings.warn('multiple INFO headers for %r' % k)\n",
      "/Users/ramayyala/opt/anaconda3/lib/python3.7/site-packages/allel/io/vcf_read.py:1745: UserWarning: multiple INFO headers for 'SVLEN'\n",
      "  warnings.warn('multiple INFO headers for %r' % k)\n",
      "/Users/ramayyala/opt/anaconda3/lib/python3.7/site-packages/allel/io/vcf_read.py:1745: UserWarning: multiple INFO headers for 'SVLEN'\n",
      "  warnings.warn('multiple INFO headers for %r' % k)\n",
      "/Users/ramayyala/opt/anaconda3/lib/python3.7/site-packages/allel/io/vcf_read.py:1745: UserWarning: multiple INFO headers for 'SVLEN'\n",
      "  warnings.warn('multiple INFO headers for %r' % k)\n",
      "/Users/ramayyala/opt/anaconda3/lib/python3.7/site-packages/allel/io/vcf_read.py:1745: UserWarning: multiple INFO headers for 'SVLEN'\n",
      "  warnings.warn('multiple INFO headers for %r' % k)\n",
      "/Users/ramayyala/opt/anaconda3/lib/python3.7/site-packages/allel/io/vcf_read.py:1745: UserWarning: multiple INFO headers for 'SVLEN'\n",
      "  warnings.warn('multiple INFO headers for %r' % k)\n",
      "/Users/ramayyala/opt/anaconda3/lib/python3.7/site-packages/allel/io/vcf_read.py:1745: UserWarning: multiple INFO headers for 'SVLEN'\n",
      "  warnings.warn('multiple INFO headers for %r' % k)\n",
      "/Users/ramayyala/opt/anaconda3/lib/python3.7/site-packages/allel/io/vcf_read.py:1745: UserWarning: multiple INFO headers for 'SVLEN'\n",
      "  warnings.warn('multiple INFO headers for %r' % k)\n",
      "/Users/ramayyala/opt/anaconda3/lib/python3.7/site-packages/allel/io/vcf_read.py:1745: UserWarning: multiple INFO headers for 'SVLEN'\n",
      "  warnings.warn('multiple INFO headers for %r' % k)\n",
      "/Users/ramayyala/opt/anaconda3/lib/python3.7/site-packages/allel/io/vcf_read.py:1745: UserWarning: multiple INFO headers for 'SVLEN'\n",
      "  warnings.warn('multiple INFO headers for %r' % k)\n",
      "/Users/ramayyala/opt/anaconda3/lib/python3.7/site-packages/allel/io/vcf_read.py:1745: UserWarning: multiple INFO headers for 'SVLEN'\n",
      "  warnings.warn('multiple INFO headers for %r' % k)\n",
      "/Users/ramayyala/opt/anaconda3/lib/python3.7/site-packages/allel/io/vcf_read.py:1745: UserWarning: multiple INFO headers for 'SVLEN'\n",
      "  warnings.warn('multiple INFO headers for %r' % k)\n",
      "/Users/ramayyala/opt/anaconda3/lib/python3.7/site-packages/allel/io/vcf_read.py:1745: UserWarning: multiple INFO headers for 'SVLEN'\n",
      "  warnings.warn('multiple INFO headers for %r' % k)\n",
      "/Users/ramayyala/opt/anaconda3/lib/python3.7/site-packages/allel/io/vcf_read.py:1745: UserWarning: multiple INFO headers for 'SVLEN'\n",
      "  warnings.warn('multiple INFO headers for %r' % k)\n",
      "/Users/ramayyala/opt/anaconda3/lib/python3.7/site-packages/allel/io/vcf_read.py:1745: UserWarning: multiple INFO headers for 'SVLEN'\n",
      "  warnings.warn('multiple INFO headers for %r' % k)\n",
      "/Users/ramayyala/opt/anaconda3/lib/python3.7/site-packages/allel/io/vcf_read.py:1745: UserWarning: multiple INFO headers for 'SVLEN'\n",
      "  warnings.warn('multiple INFO headers for %r' % k)\n",
      "/Users/ramayyala/opt/anaconda3/lib/python3.7/site-packages/allel/io/vcf_read.py:1745: UserWarning: multiple INFO headers for 'SVLEN'\n",
      "  warnings.warn('multiple INFO headers for %r' % k)\n",
      "/Users/ramayyala/opt/anaconda3/lib/python3.7/site-packages/allel/io/vcf_read.py:1745: UserWarning: multiple INFO headers for 'SVLEN'\n",
      "  warnings.warn('multiple INFO headers for %r' % k)\n",
      "/Users/ramayyala/opt/anaconda3/lib/python3.7/site-packages/allel/io/vcf_read.py:1745: UserWarning: multiple INFO headers for 'SVLEN'\n",
      "  warnings.warn('multiple INFO headers for %r' % k)\n",
      "/Users/ramayyala/opt/anaconda3/lib/python3.7/site-packages/allel/io/vcf_read.py:1745: UserWarning: multiple INFO headers for 'SVLEN'\n",
      "  warnings.warn('multiple INFO headers for %r' % k)\n",
      "/Users/ramayyala/opt/anaconda3/lib/python3.7/site-packages/allel/io/vcf_read.py:1745: UserWarning: multiple INFO headers for 'SVLEN'\n",
      "  warnings.warn('multiple INFO headers for %r' % k)\n",
      "/Users/ramayyala/opt/anaconda3/lib/python3.7/site-packages/allel/io/vcf_read.py:1745: UserWarning: multiple INFO headers for 'SVLEN'\n",
      "  warnings.warn('multiple INFO headers for %r' % k)\n",
      "/Users/ramayyala/opt/anaconda3/lib/python3.7/site-packages/allel/io/vcf_read.py:1745: UserWarning: multiple INFO headers for 'SVLEN'\n",
      "  warnings.warn('multiple INFO headers for %r' % k)\n",
      "/Users/ramayyala/opt/anaconda3/lib/python3.7/site-packages/allel/io/vcf_read.py:1745: UserWarning: multiple INFO headers for 'SVLEN'\n",
      "  warnings.warn('multiple INFO headers for %r' % k)\n",
      "/Users/ramayyala/opt/anaconda3/lib/python3.7/site-packages/allel/io/vcf_read.py:1745: UserWarning: multiple INFO headers for 'SVLEN'\n",
      "  warnings.warn('multiple INFO headers for %r' % k)\n",
      "/Users/ramayyala/opt/anaconda3/lib/python3.7/site-packages/allel/io/vcf_read.py:1745: UserWarning: multiple INFO headers for 'SVLEN'\n",
      "  warnings.warn('multiple INFO headers for %r' % k)\n",
      "/Users/ramayyala/opt/anaconda3/lib/python3.7/site-packages/allel/io/vcf_read.py:1745: UserWarning: multiple INFO headers for 'SVLEN'\n",
      "  warnings.warn('multiple INFO headers for %r' % k)\n",
      "/Users/ramayyala/opt/anaconda3/lib/python3.7/site-packages/allel/io/vcf_read.py:1745: UserWarning: multiple INFO headers for 'SVLEN'\n",
      "  warnings.warn('multiple INFO headers for %r' % k)\n",
      "/Users/ramayyala/opt/anaconda3/lib/python3.7/site-packages/allel/io/vcf_read.py:1745: UserWarning: multiple INFO headers for 'SVLEN'\n",
      "  warnings.warn('multiple INFO headers for %r' % k)\n",
      "/Users/ramayyala/opt/anaconda3/lib/python3.7/site-packages/allel/io/vcf_read.py:1745: UserWarning: multiple INFO headers for 'SVLEN'\n",
      "  warnings.warn('multiple INFO headers for %r' % k)\n",
      "/Users/ramayyala/opt/anaconda3/lib/python3.7/site-packages/allel/io/vcf_read.py:1745: UserWarning: multiple INFO headers for 'SVLEN'\n",
      "  warnings.warn('multiple INFO headers for %r' % k)\n",
      "/Users/ramayyala/opt/anaconda3/lib/python3.7/site-packages/allel/io/vcf_read.py:1745: UserWarning: multiple INFO headers for 'SVLEN'\n",
      "  warnings.warn('multiple INFO headers for %r' % k)\n",
      "/Users/ramayyala/opt/anaconda3/lib/python3.7/site-packages/allel/io/vcf_read.py:1745: UserWarning: multiple INFO headers for 'SVLEN'\n",
      "  warnings.warn('multiple INFO headers for %r' % k)\n"
     ]
    },
    {
     "name": "stderr",
     "output_type": "stream",
     "text": [
      "/Users/ramayyala/opt/anaconda3/lib/python3.7/site-packages/allel/io/vcf_read.py:1745: UserWarning: multiple INFO headers for 'SVLEN'\n",
      "  warnings.warn('multiple INFO headers for %r' % k)\n",
      "/Users/ramayyala/opt/anaconda3/lib/python3.7/site-packages/allel/io/vcf_read.py:1745: UserWarning: multiple INFO headers for 'SVLEN'\n",
      "  warnings.warn('multiple INFO headers for %r' % k)\n",
      "/Users/ramayyala/opt/anaconda3/lib/python3.7/site-packages/allel/io/vcf_read.py:1745: UserWarning: multiple INFO headers for 'SVLEN'\n",
      "  warnings.warn('multiple INFO headers for %r' % k)\n",
      "/Users/ramayyala/opt/anaconda3/lib/python3.7/site-packages/allel/io/vcf_read.py:1745: UserWarning: multiple INFO headers for 'SVLEN'\n",
      "  warnings.warn('multiple INFO headers for %r' % k)\n",
      "/Users/ramayyala/opt/anaconda3/lib/python3.7/site-packages/allel/io/vcf_read.py:1745: UserWarning: multiple INFO headers for 'SVLEN'\n",
      "  warnings.warn('multiple INFO headers for %r' % k)\n",
      "/Users/ramayyala/opt/anaconda3/lib/python3.7/site-packages/allel/io/vcf_read.py:1745: UserWarning: multiple INFO headers for 'SVLEN'\n",
      "  warnings.warn('multiple INFO headers for %r' % k)\n",
      "/Users/ramayyala/opt/anaconda3/lib/python3.7/site-packages/allel/io/vcf_read.py:1745: UserWarning: multiple INFO headers for 'SVLEN'\n",
      "  warnings.warn('multiple INFO headers for %r' % k)\n",
      "/Users/ramayyala/opt/anaconda3/lib/python3.7/site-packages/allel/io/vcf_read.py:1745: UserWarning: multiple INFO headers for 'SVLEN'\n",
      "  warnings.warn('multiple INFO headers for %r' % k)\n",
      "/Users/ramayyala/opt/anaconda3/lib/python3.7/site-packages/allel/io/vcf_read.py:1745: UserWarning: multiple INFO headers for 'SVLEN'\n",
      "  warnings.warn('multiple INFO headers for %r' % k)\n",
      "/Users/ramayyala/opt/anaconda3/lib/python3.7/site-packages/allel/io/vcf_read.py:1745: UserWarning: multiple INFO headers for 'SVLEN'\n",
      "  warnings.warn('multiple INFO headers for %r' % k)\n",
      "/Users/ramayyala/opt/anaconda3/lib/python3.7/site-packages/allel/io/vcf_read.py:1745: UserWarning: multiple INFO headers for 'SVLEN'\n",
      "  warnings.warn('multiple INFO headers for %r' % k)\n",
      "/Users/ramayyala/opt/anaconda3/lib/python3.7/site-packages/allel/io/vcf_read.py:1745: UserWarning: multiple INFO headers for 'SVLEN'\n",
      "  warnings.warn('multiple INFO headers for %r' % k)\n",
      "/Users/ramayyala/opt/anaconda3/lib/python3.7/site-packages/allel/io/vcf_read.py:1745: UserWarning: multiple INFO headers for 'SVLEN'\n",
      "  warnings.warn('multiple INFO headers for %r' % k)\n",
      "/Users/ramayyala/opt/anaconda3/lib/python3.7/site-packages/allel/io/vcf_read.py:1745: UserWarning: multiple INFO headers for 'SVLEN'\n",
      "  warnings.warn('multiple INFO headers for %r' % k)\n",
      "/Users/ramayyala/opt/anaconda3/lib/python3.7/site-packages/allel/io/vcf_read.py:1745: UserWarning: multiple INFO headers for 'SVLEN'\n",
      "  warnings.warn('multiple INFO headers for %r' % k)\n",
      "/Users/ramayyala/opt/anaconda3/lib/python3.7/site-packages/allel/io/vcf_read.py:1745: UserWarning: multiple INFO headers for 'SVLEN'\n",
      "  warnings.warn('multiple INFO headers for %r' % k)\n",
      "/Users/ramayyala/opt/anaconda3/lib/python3.7/site-packages/allel/io/vcf_read.py:1745: UserWarning: multiple INFO headers for 'SVLEN'\n",
      "  warnings.warn('multiple INFO headers for %r' % k)\n",
      "/Users/ramayyala/opt/anaconda3/lib/python3.7/site-packages/allel/io/vcf_read.py:1745: UserWarning: multiple INFO headers for 'SVLEN'\n",
      "  warnings.warn('multiple INFO headers for %r' % k)\n",
      "/Users/ramayyala/opt/anaconda3/lib/python3.7/site-packages/allel/io/vcf_read.py:1745: UserWarning: multiple INFO headers for 'SVLEN'\n",
      "  warnings.warn('multiple INFO headers for %r' % k)\n",
      "/Users/ramayyala/opt/anaconda3/lib/python3.7/site-packages/allel/io/vcf_read.py:1745: UserWarning: multiple INFO headers for 'SVLEN'\n",
      "  warnings.warn('multiple INFO headers for %r' % k)\n",
      "/Users/ramayyala/opt/anaconda3/lib/python3.7/site-packages/allel/io/vcf_read.py:1745: UserWarning: multiple INFO headers for 'SVLEN'\n",
      "  warnings.warn('multiple INFO headers for %r' % k)\n",
      "/Users/ramayyala/opt/anaconda3/lib/python3.7/site-packages/allel/io/vcf_read.py:1745: UserWarning: multiple INFO headers for 'SVLEN'\n",
      "  warnings.warn('multiple INFO headers for %r' % k)\n",
      "/Users/ramayyala/opt/anaconda3/lib/python3.7/site-packages/allel/io/vcf_read.py:1745: UserWarning: multiple INFO headers for 'SVLEN'\n",
      "  warnings.warn('multiple INFO headers for %r' % k)\n",
      "/Users/ramayyala/opt/anaconda3/lib/python3.7/site-packages/allel/io/vcf_read.py:1745: UserWarning: multiple INFO headers for 'SVLEN'\n",
      "  warnings.warn('multiple INFO headers for %r' % k)\n",
      "/Users/ramayyala/opt/anaconda3/lib/python3.7/site-packages/allel/io/vcf_read.py:1745: UserWarning: multiple INFO headers for 'SVLEN'\n",
      "  warnings.warn('multiple INFO headers for %r' % k)\n",
      "/Users/ramayyala/opt/anaconda3/lib/python3.7/site-packages/allel/io/vcf_read.py:1745: UserWarning: multiple INFO headers for 'SVLEN'\n",
      "  warnings.warn('multiple INFO headers for %r' % k)\n",
      "/Users/ramayyala/opt/anaconda3/lib/python3.7/site-packages/allel/io/vcf_read.py:1745: UserWarning: multiple INFO headers for 'SVLEN'\n",
      "  warnings.warn('multiple INFO headers for %r' % k)\n",
      "/Users/ramayyala/opt/anaconda3/lib/python3.7/site-packages/allel/io/vcf_read.py:1745: UserWarning: multiple INFO headers for 'SVLEN'\n",
      "  warnings.warn('multiple INFO headers for %r' % k)\n",
      "/Users/ramayyala/opt/anaconda3/lib/python3.7/site-packages/allel/io/vcf_read.py:1745: UserWarning: multiple INFO headers for 'SVLEN'\n",
      "  warnings.warn('multiple INFO headers for %r' % k)\n",
      "/Users/ramayyala/opt/anaconda3/lib/python3.7/site-packages/allel/io/vcf_read.py:1745: UserWarning: multiple INFO headers for 'SVLEN'\n",
      "  warnings.warn('multiple INFO headers for %r' % k)\n",
      "/Users/ramayyala/opt/anaconda3/lib/python3.7/site-packages/allel/io/vcf_read.py:1745: UserWarning: multiple INFO headers for 'SVLEN'\n",
      "  warnings.warn('multiple INFO headers for %r' % k)\n",
      "/Users/ramayyala/opt/anaconda3/lib/python3.7/site-packages/allel/io/vcf_read.py:1745: UserWarning: multiple INFO headers for 'SVLEN'\n",
      "  warnings.warn('multiple INFO headers for %r' % k)\n",
      "/Users/ramayyala/opt/anaconda3/lib/python3.7/site-packages/allel/io/vcf_read.py:1745: UserWarning: multiple INFO headers for 'SVLEN'\n",
      "  warnings.warn('multiple INFO headers for %r' % k)\n",
      "/Users/ramayyala/opt/anaconda3/lib/python3.7/site-packages/allel/io/vcf_read.py:1745: UserWarning: multiple INFO headers for 'SVLEN'\n",
      "  warnings.warn('multiple INFO headers for %r' % k)\n",
      "/Users/ramayyala/opt/anaconda3/lib/python3.7/site-packages/allel/io/vcf_read.py:1745: UserWarning: multiple INFO headers for 'SVLEN'\n",
      "  warnings.warn('multiple INFO headers for %r' % k)\n",
      "/Users/ramayyala/opt/anaconda3/lib/python3.7/site-packages/allel/io/vcf_read.py:1745: UserWarning: multiple INFO headers for 'SVLEN'\n",
      "  warnings.warn('multiple INFO headers for %r' % k)\n",
      "/Users/ramayyala/opt/anaconda3/lib/python3.7/site-packages/allel/io/vcf_read.py:1745: UserWarning: multiple INFO headers for 'SVLEN'\n",
      "  warnings.warn('multiple INFO headers for %r' % k)\n",
      "/Users/ramayyala/opt/anaconda3/lib/python3.7/site-packages/allel/io/vcf_read.py:1745: UserWarning: multiple INFO headers for 'SVLEN'\n",
      "  warnings.warn('multiple INFO headers for %r' % k)\n",
      "/Users/ramayyala/opt/anaconda3/lib/python3.7/site-packages/allel/io/vcf_read.py:1745: UserWarning: multiple INFO headers for 'SVLEN'\n",
      "  warnings.warn('multiple INFO headers for %r' % k)\n",
      "/Users/ramayyala/opt/anaconda3/lib/python3.7/site-packages/allel/io/vcf_read.py:1745: UserWarning: multiple INFO headers for 'SVLEN'\n",
      "  warnings.warn('multiple INFO headers for %r' % k)\n",
      "/Users/ramayyala/opt/anaconda3/lib/python3.7/site-packages/allel/io/vcf_read.py:1745: UserWarning: multiple INFO headers for 'SVLEN'\n",
      "  warnings.warn('multiple INFO headers for %r' % k)\n",
      "/Users/ramayyala/opt/anaconda3/lib/python3.7/site-packages/allel/io/vcf_read.py:1745: UserWarning: multiple INFO headers for 'SVLEN'\n",
      "  warnings.warn('multiple INFO headers for %r' % k)\n",
      "/Users/ramayyala/opt/anaconda3/lib/python3.7/site-packages/allel/io/vcf_read.py:1745: UserWarning: multiple INFO headers for 'SVLEN'\n",
      "  warnings.warn('multiple INFO headers for %r' % k)\n",
      "/Users/ramayyala/opt/anaconda3/lib/python3.7/site-packages/allel/io/vcf_read.py:1745: UserWarning: multiple INFO headers for 'SVLEN'\n",
      "  warnings.warn('multiple INFO headers for %r' % k)\n",
      "/Users/ramayyala/opt/anaconda3/lib/python3.7/site-packages/allel/io/vcf_read.py:1745: UserWarning: multiple INFO headers for 'SVLEN'\n",
      "  warnings.warn('multiple INFO headers for %r' % k)\n",
      "/Users/ramayyala/opt/anaconda3/lib/python3.7/site-packages/allel/io/vcf_read.py:1745: UserWarning: multiple INFO headers for 'SVLEN'\n",
      "  warnings.warn('multiple INFO headers for %r' % k)\n"
     ]
    },
    {
     "name": "stderr",
     "output_type": "stream",
     "text": [
      "/Users/ramayyala/opt/anaconda3/lib/python3.7/site-packages/allel/io/vcf_read.py:1745: UserWarning: multiple INFO headers for 'SVLEN'\n",
      "  warnings.warn('multiple INFO headers for %r' % k)\n",
      "/Users/ramayyala/opt/anaconda3/lib/python3.7/site-packages/allel/io/vcf_read.py:1745: UserWarning: multiple INFO headers for 'SVLEN'\n",
      "  warnings.warn('multiple INFO headers for %r' % k)\n",
      "/Users/ramayyala/opt/anaconda3/lib/python3.7/site-packages/allel/io/vcf_read.py:1745: UserWarning: multiple INFO headers for 'SVLEN'\n",
      "  warnings.warn('multiple INFO headers for %r' % k)\n",
      "/Users/ramayyala/opt/anaconda3/lib/python3.7/site-packages/allel/io/vcf_read.py:1745: UserWarning: multiple INFO headers for 'SVLEN'\n",
      "  warnings.warn('multiple INFO headers for %r' % k)\n",
      "/Users/ramayyala/opt/anaconda3/lib/python3.7/site-packages/allel/io/vcf_read.py:1745: UserWarning: multiple INFO headers for 'SVLEN'\n",
      "  warnings.warn('multiple INFO headers for %r' % k)\n",
      "/Users/ramayyala/opt/anaconda3/lib/python3.7/site-packages/allel/io/vcf_read.py:1745: UserWarning: multiple INFO headers for 'SVLEN'\n",
      "  warnings.warn('multiple INFO headers for %r' % k)\n",
      "/Users/ramayyala/opt/anaconda3/lib/python3.7/site-packages/allel/io/vcf_read.py:1745: UserWarning: multiple INFO headers for 'SVLEN'\n",
      "  warnings.warn('multiple INFO headers for %r' % k)\n",
      "/Users/ramayyala/opt/anaconda3/lib/python3.7/site-packages/allel/io/vcf_read.py:1745: UserWarning: multiple INFO headers for 'SVLEN'\n",
      "  warnings.warn('multiple INFO headers for %r' % k)\n",
      "/Users/ramayyala/opt/anaconda3/lib/python3.7/site-packages/allel/io/vcf_read.py:1745: UserWarning: multiple INFO headers for 'SVLEN'\n",
      "  warnings.warn('multiple INFO headers for %r' % k)\n",
      "/Users/ramayyala/opt/anaconda3/lib/python3.7/site-packages/allel/io/vcf_read.py:1745: UserWarning: multiple INFO headers for 'SVLEN'\n",
      "  warnings.warn('multiple INFO headers for %r' % k)\n",
      "/Users/ramayyala/opt/anaconda3/lib/python3.7/site-packages/allel/io/vcf_read.py:1745: UserWarning: multiple INFO headers for 'SVLEN'\n",
      "  warnings.warn('multiple INFO headers for %r' % k)\n",
      "/Users/ramayyala/opt/anaconda3/lib/python3.7/site-packages/allel/io/vcf_read.py:1745: UserWarning: multiple INFO headers for 'SVLEN'\n",
      "  warnings.warn('multiple INFO headers for %r' % k)\n",
      "/Users/ramayyala/opt/anaconda3/lib/python3.7/site-packages/allel/io/vcf_read.py:1745: UserWarning: multiple INFO headers for 'SVLEN'\n",
      "  warnings.warn('multiple INFO headers for %r' % k)\n",
      "/Users/ramayyala/opt/anaconda3/lib/python3.7/site-packages/allel/io/vcf_read.py:1745: UserWarning: multiple INFO headers for 'SVLEN'\n",
      "  warnings.warn('multiple INFO headers for %r' % k)\n",
      "/Users/ramayyala/opt/anaconda3/lib/python3.7/site-packages/allel/io/vcf_read.py:1745: UserWarning: multiple INFO headers for 'SVLEN'\n",
      "  warnings.warn('multiple INFO headers for %r' % k)\n",
      "/Users/ramayyala/opt/anaconda3/lib/python3.7/site-packages/allel/io/vcf_read.py:1745: UserWarning: multiple INFO headers for 'SVLEN'\n",
      "  warnings.warn('multiple INFO headers for %r' % k)\n",
      "/Users/ramayyala/opt/anaconda3/lib/python3.7/site-packages/allel/io/vcf_read.py:1745: UserWarning: multiple INFO headers for 'SVLEN'\n",
      "  warnings.warn('multiple INFO headers for %r' % k)\n",
      "/Users/ramayyala/opt/anaconda3/lib/python3.7/site-packages/allel/io/vcf_read.py:1745: UserWarning: multiple INFO headers for 'SVLEN'\n",
      "  warnings.warn('multiple INFO headers for %r' % k)\n",
      "/Users/ramayyala/opt/anaconda3/lib/python3.7/site-packages/allel/io/vcf_read.py:1745: UserWarning: multiple INFO headers for 'SVLEN'\n",
      "  warnings.warn('multiple INFO headers for %r' % k)\n",
      "/Users/ramayyala/opt/anaconda3/lib/python3.7/site-packages/allel/io/vcf_read.py:1745: UserWarning: multiple INFO headers for 'SVLEN'\n",
      "  warnings.warn('multiple INFO headers for %r' % k)\n",
      "/Users/ramayyala/opt/anaconda3/lib/python3.7/site-packages/allel/io/vcf_read.py:1745: UserWarning: multiple INFO headers for 'SVLEN'\n",
      "  warnings.warn('multiple INFO headers for %r' % k)\n"
     ]
    }
   ],
   "source": [
    "#tool detection of deletions\n",
    "df_current = pd.DataFrame(columns=['strain','length'])\n",
    "df = pd.DataFrame(columns=['tool','strain','length'])\n",
    "\n",
    "#0t.sniffles.LP_J_chr19.100p_sorted.modified.vcf\n",
    "for s in strain:\n",
    "    for t in tools:\n",
    "        file='../Data/raw_data/mouse/custom_vcf_fulldata/0t/deletions/nf_0t.'+t+'.'+s+'.chr19.100p_sorted.modified.vcf'\n",
    "        \n",
    "        callset = allel.read_vcf(file,fields='*')\n",
    "        # print(type(callset))\n",
    "        \n",
    "        if callset:\n",
    "            df_current = pd.DataFrame({'tool': t, 'strain': s, 'length': callset['variants/SVLEN']})\n",
    "            #print(df_current)\n",
    "        \n",
    "            df = pd.concat([df_current, df],ignore_index=True)\n",
    "        else:\n",
    "            print(\"Empty File: \" + file)\n",
    "            \n",
    "#missing files: pindel.BALB_CJ and platypus.BALB_CJ\n",
    "#from Varuni's files under custom_vcf_fulldata (not new)"
   ]
  },
  {
   "cell_type": "code",
   "execution_count": 71,
   "metadata": {},
   "outputs": [
    {
     "name": "stdout",
     "output_type": "stream",
     "text": [
      "                  tool strain length\n",
      "0       true deletions   LP_J    730\n",
      "1       true deletions   LP_J   2613\n",
      "2       true deletions   LP_J   1341\n",
      "3       true deletions   LP_J    226\n",
      "4       true deletions   LP_J    725\n",
      "...                ...    ...    ...\n",
      "868150       BioGraph*    A_J     69\n",
      "868151       BioGraph*    A_J     69\n",
      "868152       BioGraph*    A_J   6468\n",
      "868153       BioGraph*    A_J    252\n",
      "868154       BioGraph*    A_J    121\n",
      "\n",
      "[868155 rows x 3 columns]\n"
     ]
    }
   ],
   "source": [
    "#true/gold standard detection of deletions\n",
    "df_current = pd.DataFrame(columns=['strain','length'])\n",
    "\n",
    "\n",
    "for s in strain:\n",
    "    file='../Data/gold_standard/mouse_vcf/'+s+'_reference.vcf'\n",
    "    callset = allel.read_vcf(file,fields='*')\n",
    "    \n",
    "    df_current = pd.DataFrame({'tool': 'true deletions', 'strain': s, 'length': callset['variants/SVLEN']})\n",
    "    df = pd.concat([df_current, df],ignore_index=True)\n",
    "\n",
    "print(df)"
   ]
  },
  {
   "cell_type": "code",
   "execution_count": 72,
   "metadata": {},
   "outputs": [],
   "source": [
    "df['length']=pd.to_numeric(df['length'])\n",
    "df = df[df['length']>=50]\n"
   ]
  },
  {
   "cell_type": "markdown",
   "metadata": {},
   "source": [
    "# Color-coding tools for consistency across all data figures"
   ]
  },
  {
   "cell_type": "code",
   "execution_count": 73,
   "metadata": {},
   "outputs": [],
   "source": [
    "color_map = {'BioGraph*':'yellowgreen', 'breakdancer':'peru', 'clever':'gold', 'delly':'darkorange', 'delly':'mediumorchid', \n",
    "             'gasv':'firebrick', 'gridss':'cornflowerblue', 'indelminer':'forestgreen', \n",
    "             'mistrvar':'salmon', 'pindel':'darkorange', 'popdel':'navy', 'rdxplorer':'darkgray', \n",
    "             'smoove':'orangered',  'true deletions':'black',  'crest':'red', 'genomestrip':'pink','manta_diploidSV':'aqua','Tardis':'lime'}\n",
    "\n",
    "color_map1 = {'BioGraph*':'yellowgreen', 'BreakDancer':'peru', 'CLEVER':'gold', 'DELLY':'darkorange', 'DELLY':'mediumorchid', \n",
    "             'GASV':'firebrick', 'GRIDSS':'cornflowerblue', 'indelMINER':'forestgreen', \n",
    "             'MiStrVar':'salmon', 'Pindel':'darkorange', 'PopDel':'navy', 'RDXplorer':'darkgray', \n",
    "             'LUMPY':'orangered', 'true deletions':'black', 'CREST':'red', 'GenomeSTRiP':'pink','Manta':'aqua','Tardis':'lime'}\n",
    "\n",
    "test = [\"true deletions\", \"BioGraph*\",\"breakdancer\", \"clever\", \"delly\", \"gasv\", \n",
    "        \"gridss\", \"indelminer\", \"mistrvar\", \"pindel\",\"popdel\",\"rdxplorer\", \"smoove\",\"crest\",\"genomestrip\",\"manta_diploidSV\",\"Tardis\"]\n"
   ]
  },
  {
   "cell_type": "code",
   "execution_count": 74,
   "metadata": {},
   "outputs": [
    {
     "name": "stdout",
     "output_type": "stream",
     "text": [
      "Stored 'color_map' (dict)\n",
      "Stored 'color_map1' (dict)\n"
     ]
    }
   ],
   "source": [
    "%store color_map\n",
    "%store color_map1"
   ]
  },
  {
   "cell_type": "code",
   "execution_count": 75,
   "metadata": {},
   "outputs": [
    {
     "name": "stdout",
     "output_type": "stream",
     "text": [
      "Stored 'test' (list)\n"
     ]
    }
   ],
   "source": [
    "%store test"
   ]
  },
  {
   "cell_type": "markdown",
   "metadata": {},
   "source": [
    "# Figure 1b"
   ]
  },
  {
   "cell_type": "code",
   "execution_count": 76,
   "metadata": {
    "scrolled": true
   },
   "outputs": [
    {
     "data": {
      "text/html": [
       "<div>\n",
       "<style scoped>\n",
       "    .dataframe tbody tr th:only-of-type {\n",
       "        vertical-align: middle;\n",
       "    }\n",
       "\n",
       "    .dataframe tbody tr th {\n",
       "        vertical-align: top;\n",
       "    }\n",
       "\n",
       "    .dataframe thead th {\n",
       "        text-align: right;\n",
       "    }\n",
       "</style>\n",
       "<table border=\"1\" class=\"dataframe\">\n",
       "  <thead>\n",
       "    <tr style=\"text-align: right;\">\n",
       "      <th></th>\n",
       "      <th>tool</th>\n",
       "      <th>n</th>\n",
       "    </tr>\n",
       "  </thead>\n",
       "  <tbody>\n",
       "    <tr>\n",
       "      <th>0</th>\n",
       "      <td>BioGraph*</td>\n",
       "      <td>3175</td>\n",
       "    </tr>\n",
       "    <tr>\n",
       "      <th>1</th>\n",
       "      <td>Tardis</td>\n",
       "      <td>2221</td>\n",
       "    </tr>\n",
       "    <tr>\n",
       "      <th>2</th>\n",
       "      <td>breakdancer</td>\n",
       "      <td>3542</td>\n",
       "    </tr>\n",
       "    <tr>\n",
       "      <th>3</th>\n",
       "      <td>clever</td>\n",
       "      <td>12773</td>\n",
       "    </tr>\n",
       "    <tr>\n",
       "      <th>4</th>\n",
       "      <td>crest</td>\n",
       "      <td>2156</td>\n",
       "    </tr>\n",
       "    <tr>\n",
       "      <th>5</th>\n",
       "      <td>delly</td>\n",
       "      <td>3910</td>\n",
       "    </tr>\n",
       "    <tr>\n",
       "      <th>6</th>\n",
       "      <td>gasv</td>\n",
       "      <td>82225</td>\n",
       "    </tr>\n",
       "    <tr>\n",
       "      <th>7</th>\n",
       "      <td>genomestrip</td>\n",
       "      <td>1537</td>\n",
       "    </tr>\n",
       "    <tr>\n",
       "      <th>8</th>\n",
       "      <td>gridss</td>\n",
       "      <td>4084</td>\n",
       "    </tr>\n",
       "    <tr>\n",
       "      <th>9</th>\n",
       "      <td>indelminer</td>\n",
       "      <td>899</td>\n",
       "    </tr>\n",
       "    <tr>\n",
       "      <th>10</th>\n",
       "      <td>manta_diploidSV</td>\n",
       "      <td>3845</td>\n",
       "    </tr>\n",
       "    <tr>\n",
       "      <th>11</th>\n",
       "      <td>mistrvar</td>\n",
       "      <td>1943</td>\n",
       "    </tr>\n",
       "    <tr>\n",
       "      <th>12</th>\n",
       "      <td>pindel</td>\n",
       "      <td>64721</td>\n",
       "    </tr>\n",
       "    <tr>\n",
       "      <th>13</th>\n",
       "      <td>popdel</td>\n",
       "      <td>1625</td>\n",
       "    </tr>\n",
       "    <tr>\n",
       "      <th>14</th>\n",
       "      <td>rdxplorer</td>\n",
       "      <td>18531</td>\n",
       "    </tr>\n",
       "    <tr>\n",
       "      <th>15</th>\n",
       "      <td>smoove</td>\n",
       "      <td>3007</td>\n",
       "    </tr>\n",
       "    <tr>\n",
       "      <th>16</th>\n",
       "      <td>true deletions</td>\n",
       "      <td>3710</td>\n",
       "    </tr>\n",
       "  </tbody>\n",
       "</table>\n",
       "</div>"
      ],
      "text/plain": [
       "               tool      n\n",
       "0         BioGraph*   3175\n",
       "1            Tardis   2221\n",
       "2       breakdancer   3542\n",
       "3            clever  12773\n",
       "4             crest   2156\n",
       "5             delly   3910\n",
       "6              gasv  82225\n",
       "7       genomestrip   1537\n",
       "8            gridss   4084\n",
       "9        indelminer    899\n",
       "10  manta_diploidSV   3845\n",
       "11         mistrvar   1943\n",
       "12           pindel  64721\n",
       "13           popdel   1625\n",
       "14        rdxplorer  18531\n",
       "15           smoove   3007\n",
       "16   true deletions   3710"
      ]
     },
     "execution_count": 76,
     "metadata": {},
     "output_type": "execute_result"
    }
   ],
   "source": [
    "df_number=df.groupby('tool', as_index=False).count()\n",
    "del df_number['strain']\n",
    "df_number=df_number.rename(columns={'length': 'n'})\n",
    "def convert(df_number): \n",
    "    return tuple(df_number) \n",
    "\n",
    "df_number"
   ]
  },
  {
   "cell_type": "code",
   "execution_count": 77,
   "metadata": {},
   "outputs": [
    {
     "data": {
      "text/plain": [
       "array([ 0,  1,  2,  3,  4,  5,  6,  7,  8,  9, 10, 11, 12, 13, 14])"
      ]
     },
     "execution_count": 77,
     "metadata": {},
     "output_type": "execute_result"
    }
   ],
   "source": [
    "x = np.arange(15)\n",
    "x"
   ]
  },
  {
   "cell_type": "code",
   "execution_count": 78,
   "metadata": {
    "scrolled": true
   },
   "outputs": [],
   "source": [
    "# #number of deletions detected by each tool\n",
    "# import matplotlib.pyplot as plt; plt.rcdefaults()\n",
    "# import numpy as np\n",
    "# import matplotlib.pyplot as plt\n",
    "\n",
    "# fig1b, (ax, ax2)= plt.subplots(1,2,sharey=True)\n",
    "\n",
    "# ax.barh(width=df_number['n'], y=x)\n",
    "# ax2.barh(width=df_number['n'], y=x)\n",
    "\n",
    "# ax.set_xlim(0,20000)\n",
    "# ax2.set_xlim(50000,85000) \n",
    "\n",
    "# plt.yticks(x, df_number['tool'])\n",
    "# plt.xticks(rotation=30)\n",
    "# ax.set_xlabel('Number of deletions')\n",
    "# ax2.set_xlabel('Number of deletions')\n",
    "\n",
    "# ax.spines['right'].set_visible(False)\n",
    "# ax2.spines['left'].set_visible(False)\n",
    "# ax.yaxis.tick_left()\n",
    "# ax.tick_params(labeltop='off')\n",
    "# ax2.yaxis.tick_right()\n",
    "# plt.subplots_adjust(wspace=0.15)\n",
    "\n",
    "\n",
    "# #d = .015\n",
    "# #kwargs = dict(transform=ax.transAxes, color='k', clip_on=False)\n",
    "# #ax.plot((1-d,1+d), (-d,+d), **kwargs)\n",
    "# #ax.plot((1-d,1+d),(1-d,1+d), **kwargs)\n",
    "\n",
    "# #kwargs.update(transform=ax2.transAxes)\n",
    "# #ax2.plot((-d,+d), (1-d,1+d), **kwargs)\n",
    "# #ax2.plot((-d,+d), (-d,+d), **kwargs)\n",
    "\n",
    "# plt.savefig(\"../figures/fig1/fig1b\", bbox_inches='tight')"
   ]
  },
  {
   "cell_type": "code",
   "execution_count": 79,
   "metadata": {},
   "outputs": [
    {
     "data": {
      "text/html": [
       "<div>\n",
       "<style scoped>\n",
       "    .dataframe tbody tr th:only-of-type {\n",
       "        vertical-align: middle;\n",
       "    }\n",
       "\n",
       "    .dataframe tbody tr th {\n",
       "        vertical-align: top;\n",
       "    }\n",
       "\n",
       "    .dataframe thead th {\n",
       "        text-align: right;\n",
       "    }\n",
       "</style>\n",
       "<table border=\"1\" class=\"dataframe\">\n",
       "  <thead>\n",
       "    <tr style=\"text-align: right;\">\n",
       "      <th></th>\n",
       "      <th>tool</th>\n",
       "      <th>n</th>\n",
       "    </tr>\n",
       "  </thead>\n",
       "  <tbody>\n",
       "    <tr>\n",
       "      <th>0</th>\n",
       "      <td>BioGraph*</td>\n",
       "      <td>3175</td>\n",
       "    </tr>\n",
       "    <tr>\n",
       "      <th>1</th>\n",
       "      <td>Tardis</td>\n",
       "      <td>2221</td>\n",
       "    </tr>\n",
       "    <tr>\n",
       "      <th>2</th>\n",
       "      <td>breakdancer</td>\n",
       "      <td>3542</td>\n",
       "    </tr>\n",
       "    <tr>\n",
       "      <th>3</th>\n",
       "      <td>clever</td>\n",
       "      <td>12773</td>\n",
       "    </tr>\n",
       "    <tr>\n",
       "      <th>4</th>\n",
       "      <td>crest</td>\n",
       "      <td>2156</td>\n",
       "    </tr>\n",
       "    <tr>\n",
       "      <th>5</th>\n",
       "      <td>delly</td>\n",
       "      <td>3910</td>\n",
       "    </tr>\n",
       "    <tr>\n",
       "      <th>6</th>\n",
       "      <td>gasv</td>\n",
       "      <td>82225</td>\n",
       "    </tr>\n",
       "    <tr>\n",
       "      <th>7</th>\n",
       "      <td>genomestrip</td>\n",
       "      <td>1537</td>\n",
       "    </tr>\n",
       "    <tr>\n",
       "      <th>8</th>\n",
       "      <td>gridss</td>\n",
       "      <td>4084</td>\n",
       "    </tr>\n",
       "    <tr>\n",
       "      <th>9</th>\n",
       "      <td>indelminer</td>\n",
       "      <td>899</td>\n",
       "    </tr>\n",
       "    <tr>\n",
       "      <th>10</th>\n",
       "      <td>manta_diploidSV</td>\n",
       "      <td>3845</td>\n",
       "    </tr>\n",
       "    <tr>\n",
       "      <th>11</th>\n",
       "      <td>mistrvar</td>\n",
       "      <td>1943</td>\n",
       "    </tr>\n",
       "    <tr>\n",
       "      <th>12</th>\n",
       "      <td>pindel</td>\n",
       "      <td>64721</td>\n",
       "    </tr>\n",
       "    <tr>\n",
       "      <th>13</th>\n",
       "      <td>popdel</td>\n",
       "      <td>1625</td>\n",
       "    </tr>\n",
       "    <tr>\n",
       "      <th>14</th>\n",
       "      <td>rdxplorer</td>\n",
       "      <td>18531</td>\n",
       "    </tr>\n",
       "    <tr>\n",
       "      <th>15</th>\n",
       "      <td>smoove</td>\n",
       "      <td>3007</td>\n",
       "    </tr>\n",
       "    <tr>\n",
       "      <th>16</th>\n",
       "      <td>true deletions</td>\n",
       "      <td>3710</td>\n",
       "    </tr>\n",
       "  </tbody>\n",
       "</table>\n",
       "</div>"
      ],
      "text/plain": [
       "               tool      n\n",
       "0         BioGraph*   3175\n",
       "1            Tardis   2221\n",
       "2       breakdancer   3542\n",
       "3            clever  12773\n",
       "4             crest   2156\n",
       "5             delly   3910\n",
       "6              gasv  82225\n",
       "7       genomestrip   1537\n",
       "8            gridss   4084\n",
       "9        indelminer    899\n",
       "10  manta_diploidSV   3845\n",
       "11         mistrvar   1943\n",
       "12           pindel  64721\n",
       "13           popdel   1625\n",
       "14        rdxplorer  18531\n",
       "15           smoove   3007\n",
       "16   true deletions   3710"
      ]
     },
     "execution_count": 79,
     "metadata": {},
     "output_type": "execute_result"
    }
   ],
   "source": [
    "df_number"
   ]
  },
  {
   "cell_type": "code",
   "execution_count": 80,
   "metadata": {},
   "outputs": [
    {
     "data": {
      "image/png": "[encoded data removed]",
      "text/plain": [
       "<Figure size 432x432 with 2 Axes>"
      ]
     },
     "metadata": {},
     "output_type": "display_data"
    }
   ],
   "source": [
    "fig1b, (ax1, ax2) = plt.subplots(ncols=2, nrows=1, sharey=True)\n",
    "\n",
    "fig_order = ['indelminer','genomestrip','popdel','mistrvar','crest','Tardis','smoove','BioGraph*','breakdancer','true deletions','manta_diploidSV','delly','gridss','clever','rdxplorer','pindel','gasv']\n",
    "\n",
    "pal = []\n",
    "for tool in fig_order:\n",
    "    pal.append(color_map[tool])\n",
    "\n",
    "ax=sns.barplot(x='n',y='tool',data=df_number, ax=ax1, palette=pal,order=fig_order)\n",
    "ax=sns.barplot(x='n',y='tool',data=df_number, ax=ax2, palette=pal,order=fig_order)\n",
    "ax1.set_xlim(0,20000)\n",
    "ax2.set_xlim(50000,85000)\n",
    "# fig1b=sns.set_style('whitegrid')\n",
    "# fig1b=sns.set_context('talk')\n",
    "labels = ['indelMINER','GenomeSTRiP','PopDel','MiStrVar','CREST','Tardis','LUMPY','BioGraph*','BreakDancer','true deletions','Manta','DELLY','GRIDSS','CLEVER','RDXplorer','Pindel','GASV','Tardis']\n",
    "\n",
    "ax.set_yticklabels(labels)\n",
    "plt.subplots_adjust(wspace=0.1, hspace=0)\n",
    "ax1.set(xlabel= '', ylabel='Tool')\n",
    "ax2.set(xlabel='', ylabel='')\n",
    "sns.set()\n",
    "plt.savefig(\"../Figures/fig1/mouse/fig1b_break.svg\", bbox_inches='tight')\n",
    "plt.savefig(\"../Figures/fig1/mouse/fig1b_break.eps\", bbox_inches='tight')\n",
    "plt.savefig(\"../Figures/fig1/mouse/fig1b_break\", bbox_inches='tight')\n",
    "plt.savefig(\"../Figures/fig1/mouse/fig1b_break.pdf\", bbox_inches='tight')"
   ]
  },
  {
   "cell_type": "code",
   "execution_count": 81,
   "metadata": {
    "scrolled": true
   },
   "outputs": [
    {
     "data": {
      "image/png": "[encoded data removed]",
      "text/plain": [
       "<Figure size 540x360 with 1 Axes>"
      ]
     },
     "metadata": {},
     "output_type": "display_data"
    }
   ],
   "source": [
    "fig1b=sns.set_style('whitegrid')\n",
    "fig1b=sns.set_context('talk')\n",
    "\n",
    "# fig_order=[\"true deletions\", \"BioGraph*\",\"breakdancer\", \"clever\", \"delly\", \"gasv\", \"gridss\", \"indelminer\",  \"mistrvar\", \"pindel\",\"popdel\",\"rdxplorer\", \"smoove\", \"sniffles\"]\n",
    "fig_order = ['indelminer','genomestrip','popdel','mistrvar','crest','Tardis','smoove','BioGraph*','breakdancer','true deletions','manta_diploidSV','delly','gridss','clever','rdxplorer','pindel','gasv']\n",
    "\n",
    "pal = []\n",
    "for tool in fig_order:\n",
    "    pal.append(color_map[tool])\n",
    "    \n",
    "fig1b = sns.catplot(x='n', y='tool',data=df_number,kind='bar',aspect=1.5, palette=pal, order=fig_order)\n",
    "fig1b.set(xlabel='Number of deletions', ylabel='Tool')\n",
    "labels = ['indelMINER','GenomeSTRiP','PopDel','MiStrVar','CREST','Tardis','LUMPY','BioGraph*','BreakDancer','true deletions','Manta','DELLY','GRIDSS','CLEVER','RDXplorer','Pindel','GASV']\n",
    "sns.set(font_scale = 2)\n",
    "fig1b.set_yticklabels(labels)\n",
    "#fig1b.set(xscale=\"log\");\n",
    "fig1b=sns.despine()\n",
    "plt.savefig(\"../Figures/fig1/mouse/fig1b_no_break.png\", bbox_inches='tight')\n",
    "plt.savefig(\"../Figures/fig1/mouse/fig1b.pdf\", bbox_inches='tight')\n",
    "plt.savefig(\"../Figures/fig1/mouse/fig1b.eps\")\n",
    "plt.savefig(\"../Figures/fig1/mouse/fig1b.svg\")"
   ]
  },
  {
   "cell_type": "markdown",
   "metadata": {},
   "source": [
    "# Figure 1c"
   ]
  },
  {
   "cell_type": "code",
   "execution_count": 82,
   "metadata": {},
   "outputs": [],
   "source": [
    "# df_sum is defined in prepare_data_fig1"
   ]
  },
  {
   "cell_type": "code",
   "execution_count": 83,
   "metadata": {},
   "outputs": [],
   "source": [
    "df_sum=pd.read_csv('../Data/analysis_files/df_sum.csv')"
   ]
  },
  {
   "cell_type": "code",
   "execution_count": 84,
   "metadata": {
    "scrolled": true
   },
   "outputs": [
    {
     "data": {
      "image/png": "[encoded data removed]",
      "text/plain": [
       "<Figure size 818.65x360 with 1 Axes>"
      ]
     },
     "metadata": {},
     "output_type": "display_data"
    }
   ],
   "source": [
    "%store -r\n",
    "fig1c=sns.set_style(\"white\")\n",
    "fig1c=sns.set_context(\"talk\")\n",
    "\n",
    "fig_order = [\"indelminer\",\"gasv\",\"crest\",\"mistrvar\",\"rdxplorer\",\"genomestrip\",\"popdel\",\"pindel\",\"Tardis\",\"BioGraph*\",\"breakdancer\",\"smoove\",\"delly\",\"gridss\",\"manta_diploidSV\",\"clever\"]\n",
    "labels    = [\"indelMINER\",\"GASV\",\"CREST\",\"MiStrVar\",\"RDXplorer\",\"GenomeSTRiP\",\"PopDel\",\"Pindel\",\"Tardis\",\"BioGraph*\",\"BreakDancer\",\"LUMPY\",\"DELLY\",\"GRIDSS\",\"Manta\",\"CLEVER\"]\n",
    "df_sum[\"Tool\"] = df_sum[\"tool\"].map(dict(zip(fig_order, labels)))\n",
    "\n",
    "pal = []\n",
    "for tool in fig_order:\n",
    "    pal.append(color_map[tool])\n",
    "    \n",
    "fig1c = sns.catplot(x=\"threshold\", y=\"nTP\", kind=\"bar\",data = df_sum,hue=\"Tool\",aspect=1.8, palette=pal, hue_order=labels)\n",
    "fig1c.set(xlabel='Threshold (bp)', ylabel='Total number of TP calls')\n",
    "sns.set(font_scale=2)\n",
    "# fig1c=sns.despine()\n",
    "#plt.show(fig1c)\n",
    "plt.savefig(\"../Figures/fig1/mouse/fig1c.svg\", bbox_inches='tight')\n",
    "plt.savefig(\"../Figures/fig1/mouse/fig1c.eps\", bbox_inches='tight')\n",
    "plt.savefig(\"../Figures/fig1/mouse/fig1c\", bbox_inches='tight')\n",
    "plt.savefig(\"../Figures/fig1/mouse/fig1c.pdf\", bbox_inches='tight')\n"
   ]
  },
  {
   "cell_type": "code",
   "execution_count": 85,
   "metadata": {},
   "outputs": [],
   "source": [
    "df_sum.to_csv('../Data/analysis_files/df_sum.csv')"
   ]
  },
  {
   "cell_type": "markdown",
   "metadata": {},
   "source": [
    "# Figure 1d"
   ]
  },
  {
   "cell_type": "code",
   "execution_count": 86,
   "metadata": {
    "scrolled": false
   },
   "outputs": [
    {
     "data": {
      "image/png": "[encoded data removed]",
      "text/plain": [
       "<Figure size 818.65x360 with 1 Axes>"
      ]
     },
     "metadata": {},
     "output_type": "display_data"
    }
   ],
   "source": [
    "fig1d=sns.set_style(\"white\")\n",
    "fig1d=sns.set_context(\"talk\")\n",
    "\n",
    "fig_order = [\"gasv\",\"rdxplorer\",\"pindel\",\"mistrvar\",\"gridss\",\"delly\",\"genomestrip\",\"clever\",\"indelminer\",\n",
    "             \"BioGraph*\",\"breakdancer\",\"smoove\",\"popdel\",\"Tardis\",\"manta_diploidSV\",\"crest\"]\n",
    "labels    = [\"GASV\",\"RDXplorer\",\"Pindel\",\"MiStrVar\",\"GRIDSS\",\"DELLY\",\"GenomeSTRiP\",\"CLEVER\",\"indelMINER\",\n",
    "             \"BioGraph*\",\"BreakDancer\",\"LUMPY\",\"PopDel\",\"Tardis\",\"Manta\",\"CREST\"]\n",
    "df_sum[\"Tool\"] = df_sum[\"tool\"].map(dict(zip(fig_order, labels)))\n",
    "\n",
    "pal = []\n",
    "for tool in fig_order:\n",
    "    pal.append(color_map[tool])\n",
    "\n",
    "fig1d = sns.catplot(x=\"threshold\", y=\"nTN\", kind=\"bar\",data = df_sum,hue=\"Tool\",aspect=1.8, palette=pal,hue_order=labels)\n",
    "fig1d.set(xlabel='Threshold (bp)', ylabel='Total number of TN calls')\n",
    "fig1d=sns.despine()\n",
    "#plt.show(fig1d)\n",
    "sns.set(font_scale=2)\n",
    "plt.savefig(\"../Figures/fig1/mouse/fig1d\", bbox_inches='tight')\n",
    "plt.savefig(\"../Figures/fig1/mouse/fig1d.pdf\", bbox_inches='tight')\n",
    "plt.savefig(\"../Figures/fig1/mouse/fig1d.eps\")\n",
    "plt.savefig(\"../Figures/fig1/mouse/fig1d.svg\")"
   ]
  },
  {
   "cell_type": "markdown",
   "metadata": {},
   "source": [
    "# Figure 1e"
   ]
  },
  {
   "cell_type": "code",
   "execution_count": 87,
   "metadata": {},
   "outputs": [
    {
     "name": "stdout",
     "output_type": "stream",
     "text": [
      "         tool  threshold   nTP    nFP   nFN   nTN       Tool\n",
      "0   BioGraph*         10   297   2878  3502  1672  BioGraph*\n",
      "1   BioGraph*        100  1827   1348  1972  2249  BioGraph*\n",
      "2   BioGraph*       1000  2004   1171  1795  2331  BioGraph*\n",
      "3   BioGraph*      10000  2163   1012  1636  2717  BioGraph*\n",
      "4      Tardis         10   175   2048  3624  2449     Tardis\n",
      "..        ...        ...   ...    ...   ...   ...        ...\n",
      "59  rdxplorer      10000  2879  15652   920  1326  RDXplorer\n",
      "60     smoove         10   667   2473  3132  2011      LUMPY\n",
      "61     smoove        100  2249    891  1550  2664      LUMPY\n",
      "62     smoove       1000  2464    676  1335  2791      LUMPY\n",
      "63     smoove      10000  2601    539  1198  3370      LUMPY\n",
      "\n",
      "[64 rows x 7 columns]\n"
     ]
    }
   ],
   "source": [
    "df_sum.loc[(df_sum['threshold'] ==100)]\n",
    "print(df_sum)\n"
   ]
  },
  {
   "cell_type": "code",
   "execution_count": 88,
   "metadata": {},
   "outputs": [],
   "source": [
    "color_map1 = {'BioGraph*':'yellowgreen', 'BreakDancer':'peru', 'CLEVER':'gold', 'DELLY':'darkorange', 'DELLY':'mediumorchid', \n",
    "             'GASV':'firebrick', 'GRIDSS':'cornflowerblue', 'indelMINER':'forestgreen', \n",
    "             'MiStrVar':'salmon', 'Pindel':'darkorange', 'PopDel':'navy', 'RDXplorer':'darkgray', \n",
    "             'LUMPY':'orangered', 'true deletions':'black', 'CREST':'red', 'GenomeSTRiP':'pink','Manta':'aqua'}\n"
   ]
  },
  {
   "cell_type": "code",
   "execution_count": 89,
   "metadata": {},
   "outputs": [],
   "source": [
    "df_new=df_sum.loc[(df_sum['threshold'] ==100)]"
   ]
  },
  {
   "cell_type": "code",
   "execution_count": 90,
   "metadata": {},
   "outputs": [
    {
     "data": {
      "text/html": [
       "<div>\n",
       "<style scoped>\n",
       "    .dataframe tbody tr th:only-of-type {\n",
       "        vertical-align: middle;\n",
       "    }\n",
       "\n",
       "    .dataframe tbody tr th {\n",
       "        vertical-align: top;\n",
       "    }\n",
       "\n",
       "    .dataframe thead th {\n",
       "        text-align: right;\n",
       "    }\n",
       "</style>\n",
       "<table border=\"1\" class=\"dataframe\">\n",
       "  <thead>\n",
       "    <tr style=\"text-align: right;\">\n",
       "      <th></th>\n",
       "      <th>tool</th>\n",
       "      <th>threshold</th>\n",
       "      <th>nTP</th>\n",
       "      <th>nFP</th>\n",
       "      <th>nFN</th>\n",
       "      <th>nTN</th>\n",
       "      <th>Tool</th>\n",
       "    </tr>\n",
       "  </thead>\n",
       "  <tbody>\n",
       "    <tr>\n",
       "      <th>1</th>\n",
       "      <td>BioGraph*</td>\n",
       "      <td>100</td>\n",
       "      <td>1827</td>\n",
       "      <td>1348</td>\n",
       "      <td>1972</td>\n",
       "      <td>2249</td>\n",
       "      <td>BioGraph*</td>\n",
       "    </tr>\n",
       "    <tr>\n",
       "      <th>5</th>\n",
       "      <td>Tardis</td>\n",
       "      <td>100</td>\n",
       "      <td>1729</td>\n",
       "      <td>494</td>\n",
       "      <td>2070</td>\n",
       "      <td>2877</td>\n",
       "      <td>Tardis</td>\n",
       "    </tr>\n",
       "    <tr>\n",
       "      <th>9</th>\n",
       "      <td>breakdancer</td>\n",
       "      <td>100</td>\n",
       "      <td>1883</td>\n",
       "      <td>1659</td>\n",
       "      <td>1916</td>\n",
       "      <td>2483</td>\n",
       "      <td>BreakDancer</td>\n",
       "    </tr>\n",
       "    <tr>\n",
       "      <th>13</th>\n",
       "      <td>clever</td>\n",
       "      <td>100</td>\n",
       "      <td>2613</td>\n",
       "      <td>11143</td>\n",
       "      <td>1186</td>\n",
       "      <td>1963</td>\n",
       "      <td>CLEVER</td>\n",
       "    </tr>\n",
       "    <tr>\n",
       "      <th>17</th>\n",
       "      <td>crest</td>\n",
       "      <td>100</td>\n",
       "      <td>610</td>\n",
       "      <td>1546</td>\n",
       "      <td>3189</td>\n",
       "      <td>16480</td>\n",
       "      <td>CREST</td>\n",
       "    </tr>\n",
       "    <tr>\n",
       "      <th>21</th>\n",
       "      <td>delly</td>\n",
       "      <td>100</td>\n",
       "      <td>2329</td>\n",
       "      <td>4444</td>\n",
       "      <td>1470</td>\n",
       "      <td>1409</td>\n",
       "      <td>DELLY</td>\n",
       "    </tr>\n",
       "    <tr>\n",
       "      <th>25</th>\n",
       "      <td>gasv</td>\n",
       "      <td>100</td>\n",
       "      <td>597</td>\n",
       "      <td>81888</td>\n",
       "      <td>3202</td>\n",
       "      <td>93</td>\n",
       "      <td>GASV</td>\n",
       "    </tr>\n",
       "    <tr>\n",
       "      <th>29</th>\n",
       "      <td>genomestrip</td>\n",
       "      <td>100</td>\n",
       "      <td>926</td>\n",
       "      <td>611</td>\n",
       "      <td>2873</td>\n",
       "      <td>1429</td>\n",
       "      <td>GenomeSTRiP</td>\n",
       "    </tr>\n",
       "    <tr>\n",
       "      <th>33</th>\n",
       "      <td>gridss</td>\n",
       "      <td>100</td>\n",
       "      <td>2379</td>\n",
       "      <td>15964</td>\n",
       "      <td>1420</td>\n",
       "      <td>636</td>\n",
       "      <td>GRIDSS</td>\n",
       "    </tr>\n",
       "    <tr>\n",
       "      <th>37</th>\n",
       "      <td>indelminer</td>\n",
       "      <td>100</td>\n",
       "      <td>520</td>\n",
       "      <td>78001</td>\n",
       "      <td>3279</td>\n",
       "      <td>1727</td>\n",
       "      <td>indelMINER</td>\n",
       "    </tr>\n",
       "    <tr>\n",
       "      <th>41</th>\n",
       "      <td>manta_diploidSV</td>\n",
       "      <td>100</td>\n",
       "      <td>2485</td>\n",
       "      <td>1360</td>\n",
       "      <td>1314</td>\n",
       "      <td>4763</td>\n",
       "      <td>Manta</td>\n",
       "    </tr>\n",
       "    <tr>\n",
       "      <th>45</th>\n",
       "      <td>mistrvar</td>\n",
       "      <td>100</td>\n",
       "      <td>859</td>\n",
       "      <td>46106</td>\n",
       "      <td>2940</td>\n",
       "      <td>445</td>\n",
       "      <td>MiStrVar</td>\n",
       "    </tr>\n",
       "    <tr>\n",
       "      <th>49</th>\n",
       "      <td>pindel</td>\n",
       "      <td>100</td>\n",
       "      <td>1670</td>\n",
       "      <td>576066</td>\n",
       "      <td>2129</td>\n",
       "      <td>350</td>\n",
       "      <td>Pindel</td>\n",
       "    </tr>\n",
       "    <tr>\n",
       "      <th>53</th>\n",
       "      <td>popdel</td>\n",
       "      <td>100</td>\n",
       "      <td>1277</td>\n",
       "      <td>348</td>\n",
       "      <td>2522</td>\n",
       "      <td>2523</td>\n",
       "      <td>PopDel</td>\n",
       "    </tr>\n",
       "    <tr>\n",
       "      <th>57</th>\n",
       "      <td>rdxplorer</td>\n",
       "      <td>100</td>\n",
       "      <td>886</td>\n",
       "      <td>17645</td>\n",
       "      <td>2913</td>\n",
       "      <td>175</td>\n",
       "      <td>RDXplorer</td>\n",
       "    </tr>\n",
       "    <tr>\n",
       "      <th>61</th>\n",
       "      <td>smoove</td>\n",
       "      <td>100</td>\n",
       "      <td>2249</td>\n",
       "      <td>891</td>\n",
       "      <td>1550</td>\n",
       "      <td>2664</td>\n",
       "      <td>LUMPY</td>\n",
       "    </tr>\n",
       "  </tbody>\n",
       "</table>\n",
       "</div>"
      ],
      "text/plain": [
       "               tool  threshold   nTP     nFP   nFN    nTN         Tool\n",
       "1         BioGraph*        100  1827    1348  1972   2249    BioGraph*\n",
       "5            Tardis        100  1729     494  2070   2877       Tardis\n",
       "9       breakdancer        100  1883    1659  1916   2483  BreakDancer\n",
       "13           clever        100  2613   11143  1186   1963       CLEVER\n",
       "17            crest        100   610    1546  3189  16480        CREST\n",
       "21            delly        100  2329    4444  1470   1409        DELLY\n",
       "25             gasv        100   597   81888  3202     93         GASV\n",
       "29      genomestrip        100   926     611  2873   1429  GenomeSTRiP\n",
       "33           gridss        100  2379   15964  1420    636       GRIDSS\n",
       "37       indelminer        100   520   78001  3279   1727   indelMINER\n",
       "41  manta_diploidSV        100  2485    1360  1314   4763        Manta\n",
       "45         mistrvar        100   859   46106  2940    445     MiStrVar\n",
       "49           pindel        100  1670  576066  2129    350       Pindel\n",
       "53           popdel        100  1277     348  2522   2523       PopDel\n",
       "57        rdxplorer        100   886   17645  2913    175    RDXplorer\n",
       "61           smoove        100  2249     891  1550   2664        LUMPY"
      ]
     },
     "execution_count": 90,
     "metadata": {},
     "output_type": "execute_result"
    }
   ],
   "source": [
    "df_new"
   ]
  },
  {
   "cell_type": "code",
   "execution_count": 91,
   "metadata": {},
   "outputs": [],
   "source": [
    "df_new=df_new.reset_index(drop=True)"
   ]
  },
  {
   "cell_type": "code",
   "execution_count": 92,
   "metadata": {},
   "outputs": [],
   "source": [
    "color_map1 = {'BioGraph*':'yellowgreen', 'Tardis':'lime','BreakDancer':'peru', 'CLEVER':'gold', 'CREST':'red', 'DELLY':'darkorange', 'DELLY':'mediumorchid', \n",
    "             'GASV':'firebrick', 'GenomeSTRiP':'pink', 'GRIDSS':'cornflowerblue', 'indelMINER':'forestgreen','Manta':'aqua', \n",
    "             'MiStrVar':'salmon', 'Pindel':'darkorange', 'PopDel':'navy', 'RDXplorer':'darkgray', \n",
    "             'LUMPY':'orangered'}"
   ]
  },
  {
   "cell_type": "code",
   "execution_count": 93,
   "metadata": {},
   "outputs": [
    {
     "data": {
      "text/html": [
       "<div>\n",
       "<style scoped>\n",
       "    .dataframe tbody tr th:only-of-type {\n",
       "        vertical-align: middle;\n",
       "    }\n",
       "\n",
       "    .dataframe tbody tr th {\n",
       "        vertical-align: top;\n",
       "    }\n",
       "\n",
       "    .dataframe thead th {\n",
       "        text-align: right;\n",
       "    }\n",
       "</style>\n",
       "<table border=\"1\" class=\"dataframe\">\n",
       "  <thead>\n",
       "    <tr style=\"text-align: right;\">\n",
       "      <th></th>\n",
       "      <th>tool</th>\n",
       "      <th>threshold</th>\n",
       "      <th>nTP</th>\n",
       "      <th>nFP</th>\n",
       "      <th>nFN</th>\n",
       "      <th>nTN</th>\n",
       "      <th>Tool</th>\n",
       "    </tr>\n",
       "  </thead>\n",
       "  <tbody>\n",
       "    <tr>\n",
       "      <th>0</th>\n",
       "      <td>BioGraph*</td>\n",
       "      <td>100</td>\n",
       "      <td>1827</td>\n",
       "      <td>1348</td>\n",
       "      <td>1972</td>\n",
       "      <td>2249</td>\n",
       "      <td>BioGraph*</td>\n",
       "    </tr>\n",
       "    <tr>\n",
       "      <th>1</th>\n",
       "      <td>Tardis</td>\n",
       "      <td>100</td>\n",
       "      <td>1729</td>\n",
       "      <td>494</td>\n",
       "      <td>2070</td>\n",
       "      <td>2877</td>\n",
       "      <td>Tardis</td>\n",
       "    </tr>\n",
       "    <tr>\n",
       "      <th>2</th>\n",
       "      <td>breakdancer</td>\n",
       "      <td>100</td>\n",
       "      <td>1883</td>\n",
       "      <td>1659</td>\n",
       "      <td>1916</td>\n",
       "      <td>2483</td>\n",
       "      <td>BreakDancer</td>\n",
       "    </tr>\n",
       "    <tr>\n",
       "      <th>3</th>\n",
       "      <td>clever</td>\n",
       "      <td>100</td>\n",
       "      <td>2613</td>\n",
       "      <td>11143</td>\n",
       "      <td>1186</td>\n",
       "      <td>1963</td>\n",
       "      <td>CLEVER</td>\n",
       "    </tr>\n",
       "    <tr>\n",
       "      <th>4</th>\n",
       "      <td>crest</td>\n",
       "      <td>100</td>\n",
       "      <td>610</td>\n",
       "      <td>1546</td>\n",
       "      <td>3189</td>\n",
       "      <td>16480</td>\n",
       "      <td>CREST</td>\n",
       "    </tr>\n",
       "    <tr>\n",
       "      <th>5</th>\n",
       "      <td>delly</td>\n",
       "      <td>100</td>\n",
       "      <td>2329</td>\n",
       "      <td>4444</td>\n",
       "      <td>1470</td>\n",
       "      <td>1409</td>\n",
       "      <td>DELLY</td>\n",
       "    </tr>\n",
       "    <tr>\n",
       "      <th>6</th>\n",
       "      <td>gasv</td>\n",
       "      <td>100</td>\n",
       "      <td>597</td>\n",
       "      <td>81888</td>\n",
       "      <td>3202</td>\n",
       "      <td>93</td>\n",
       "      <td>GASV</td>\n",
       "    </tr>\n",
       "    <tr>\n",
       "      <th>7</th>\n",
       "      <td>genomestrip</td>\n",
       "      <td>100</td>\n",
       "      <td>926</td>\n",
       "      <td>611</td>\n",
       "      <td>2873</td>\n",
       "      <td>1429</td>\n",
       "      <td>GenomeSTRiP</td>\n",
       "    </tr>\n",
       "    <tr>\n",
       "      <th>8</th>\n",
       "      <td>gridss</td>\n",
       "      <td>100</td>\n",
       "      <td>2379</td>\n",
       "      <td>15964</td>\n",
       "      <td>1420</td>\n",
       "      <td>636</td>\n",
       "      <td>GRIDSS</td>\n",
       "    </tr>\n",
       "    <tr>\n",
       "      <th>9</th>\n",
       "      <td>indelminer</td>\n",
       "      <td>100</td>\n",
       "      <td>520</td>\n",
       "      <td>78001</td>\n",
       "      <td>3279</td>\n",
       "      <td>1727</td>\n",
       "      <td>indelMINER</td>\n",
       "    </tr>\n",
       "    <tr>\n",
       "      <th>10</th>\n",
       "      <td>manta_diploidSV</td>\n",
       "      <td>100</td>\n",
       "      <td>2485</td>\n",
       "      <td>1360</td>\n",
       "      <td>1314</td>\n",
       "      <td>4763</td>\n",
       "      <td>Manta</td>\n",
       "    </tr>\n",
       "    <tr>\n",
       "      <th>11</th>\n",
       "      <td>mistrvar</td>\n",
       "      <td>100</td>\n",
       "      <td>859</td>\n",
       "      <td>46106</td>\n",
       "      <td>2940</td>\n",
       "      <td>445</td>\n",
       "      <td>MiStrVar</td>\n",
       "    </tr>\n",
       "    <tr>\n",
       "      <th>12</th>\n",
       "      <td>pindel</td>\n",
       "      <td>100</td>\n",
       "      <td>1670</td>\n",
       "      <td>576066</td>\n",
       "      <td>2129</td>\n",
       "      <td>350</td>\n",
       "      <td>Pindel</td>\n",
       "    </tr>\n",
       "    <tr>\n",
       "      <th>13</th>\n",
       "      <td>popdel</td>\n",
       "      <td>100</td>\n",
       "      <td>1277</td>\n",
       "      <td>348</td>\n",
       "      <td>2522</td>\n",
       "      <td>2523</td>\n",
       "      <td>PopDel</td>\n",
       "    </tr>\n",
       "    <tr>\n",
       "      <th>14</th>\n",
       "      <td>rdxplorer</td>\n",
       "      <td>100</td>\n",
       "      <td>886</td>\n",
       "      <td>17645</td>\n",
       "      <td>2913</td>\n",
       "      <td>175</td>\n",
       "      <td>RDXplorer</td>\n",
       "    </tr>\n",
       "    <tr>\n",
       "      <th>15</th>\n",
       "      <td>smoove</td>\n",
       "      <td>100</td>\n",
       "      <td>2249</td>\n",
       "      <td>891</td>\n",
       "      <td>1550</td>\n",
       "      <td>2664</td>\n",
       "      <td>LUMPY</td>\n",
       "    </tr>\n",
       "  </tbody>\n",
       "</table>\n",
       "</div>"
      ],
      "text/plain": [
       "               tool  threshold   nTP     nFP   nFN    nTN         Tool\n",
       "0         BioGraph*        100  1827    1348  1972   2249    BioGraph*\n",
       "1            Tardis        100  1729     494  2070   2877       Tardis\n",
       "2       breakdancer        100  1883    1659  1916   2483  BreakDancer\n",
       "3            clever        100  2613   11143  1186   1963       CLEVER\n",
       "4             crest        100   610    1546  3189  16480        CREST\n",
       "5             delly        100  2329    4444  1470   1409        DELLY\n",
       "6              gasv        100   597   81888  3202     93         GASV\n",
       "7       genomestrip        100   926     611  2873   1429  GenomeSTRiP\n",
       "8            gridss        100  2379   15964  1420    636       GRIDSS\n",
       "9        indelminer        100   520   78001  3279   1727   indelMINER\n",
       "10  manta_diploidSV        100  2485    1360  1314   4763        Manta\n",
       "11         mistrvar        100   859   46106  2940    445     MiStrVar\n",
       "12           pindel        100  1670  576066  2129    350       Pindel\n",
       "13           popdel        100  1277     348  2522   2523       PopDel\n",
       "14        rdxplorer        100   886   17645  2913    175    RDXplorer\n",
       "15           smoove        100  2249     891  1550   2664        LUMPY"
      ]
     },
     "execution_count": 93,
     "metadata": {},
     "output_type": "execute_result"
    }
   ],
   "source": [
    "df_new"
   ]
  },
  {
   "cell_type": "code",
   "execution_count": 94,
   "metadata": {},
   "outputs": [
    {
     "name": "stderr",
     "output_type": "stream",
     "text": [
      "The PostScript backend does not support transparency; partially transparent artists will be rendered opaque.\n",
      "The PostScript backend does not support transparency; partially transparent artists will be rendered opaque.\n",
      "The PostScript backend does not support transparency; partially transparent artists will be rendered opaque.\n",
      "The PostScript backend does not support transparency; partially transparent artists will be rendered opaque.\n"
     ]
    },
    {
     "data": {
      "image/png": "[encoded data removed]",
      "text/plain": [
       "<Figure size 432x432 with 1 Axes>"
      ]
     },
     "metadata": {},
     "output_type": "display_data"
    }
   ],
   "source": [
    "import seaborn as sns; sns.set()\n",
    "import matplotlib.pyplot as plt\n",
    "sns.set_style(\"white\")\n",
    "# sns.despine(top=True, right=True, left=False, bottom=False, offset=None, trim=False)\n",
    "tips = sns.load_dataset(\"tips\")\n",
    "ax = sns.scatterplot(x=\"nTP\", y=\"nFP\", data=df_new,hue='Tool',s=200,palette=color_map1)\n",
    "ax.legend(loc='center left', bbox_to_anchor=(1, .5), ncol=1)\n",
    "sns.set(font_scale=2)\n",
    "\n",
    "plt.savefig(\"../Figures/fig1/mouse/fig1e.svg\", bbox_inches='tight')\n",
    "plt.savefig(\"../Figures/fig1/mouse/fig1e.eps\", bbox_inches='tight')\n",
    "plt.savefig(\"../Figures/fig1/mouse/fig1e\", bbox_inches='tight')\n",
    "plt.savefig(\"../Figures/fig1/mouse/fig1e.pdf\", bbox_inches='tight')"
   ]
  },
  {
   "cell_type": "code",
   "execution_count": 95,
   "metadata": {
    "scrolled": true
   },
   "outputs": [],
   "source": [
    "# for th in [100]:\n",
    "#     fig1e=sns.set_style(\"white\")\n",
    "#     fig1e=sns.set_context(\"talk\")\n",
    "#     fig1e=sns.scatterplot(data=df_new, x='nTP', y='nFP',hue='Tool',fit_reg=False,aspect=1.5,scatter_kws={\"s\": 300}, palette=color_map1)\n",
    "#     fig1e.set(xlabel='TP', ylabel='FP')\n",
    "#     plt.title(str()+\"bp\")\n",
    "#     #fig1e.set(xscale=\"log\");\n",
    "#     fig1e=sns.despine()\n",
    "# # plt.savefig(\"../Figures/fig1/fig1e.svg\", bbox_inches='tight')\n",
    "# # plt.savefig(\"../Figures/fig1/fig1e.eps\", bbox_inches='tight')\n",
    "# # plt.savefig(\"../Figures/fig1/fig1e\", bbox_inches='tight')\n",
    "# # plt.savefig(\"../Figures/fig1/fig1e.pdf\", bbox_inches='tight')"
   ]
  },
  {
   "cell_type": "markdown",
   "metadata": {},
   "source": [
    "# Figure 1f"
   ]
  },
  {
   "cell_type": "code",
   "execution_count": 96,
   "metadata": {},
   "outputs": [
    {
     "name": "stderr",
     "output_type": "stream",
     "text": [
      "The PostScript backend does not support transparency; partially transparent artists will be rendered opaque.\n",
      "The PostScript backend does not support transparency; partially transparent artists will be rendered opaque.\n",
      "The PostScript backend does not support transparency; partially transparent artists will be rendered opaque.\n",
      "The PostScript backend does not support transparency; partially transparent artists will be rendered opaque.\n"
     ]
    },
    {
     "data": {
      "image/png": "[encoded data removed]",
      "text/plain": [
       "<Figure size 432x432 with 1 Axes>"
      ]
     },
     "metadata": {},
     "output_type": "display_data"
    }
   ],
   "source": [
    "import seaborn as sns; sns.set()\n",
    "import matplotlib.pyplot as plt\n",
    "sns.set_style(\"white\")\n",
    "# sns.despine(top=True, right=True, left=False, bottom=False, offset=None, trim=False)\n",
    "tips = sns.load_dataset(\"tips\")\n",
    "ax = sns.scatterplot(x=\"nTN\", y=\"nFP\", data=df_new,hue='Tool',s=200,palette=color_map1)\n",
    "\n",
    "ax.legend(loc='center left', bbox_to_anchor=(1, .5), ncol=1)\n",
    "sns.set(font_scale=2)\n",
    "plt.savefig(\"../Figures/fig1/mouse/fig1f.svg\", bbox_inches='tight')\n",
    "plt.savefig(\"../Figures/fig1/mouse/fig1f.eps\", bbox_inches='tight')\n",
    "plt.savefig(\"../Figures/fig1/mouse/fig1f\", bbox_inches='tight')\n",
    "plt.savefig(\"../Figures/fig1/mouse/fig1f.pdf\", bbox_inches='tight')"
   ]
  },
  {
   "cell_type": "code",
   "execution_count": 97,
   "metadata": {},
   "outputs": [],
   "source": [
    "# for th in [100]:\n",
    "#     fig1f=sns.set_style(\"white\")\n",
    "#     fig1f=sns.set_context(\"talk\")\n",
    "#     fig1f=sns.lmplot(data=df_sum.loc[(df_sum['threshold'] ==th)], x='nTN', y='nFP', hue='Tool',fit_reg=False,aspect=1.5,palette=color_map1,scatter_kws={'s': 300})\n",
    "#     fig1f.set(xlabel='TN', ylabel='FP')\n",
    "#     plt.title(str(th)+\"bp\")\n",
    "#     #fig1f.set(xscale=\"log\");\n",
    "#     fig1f=sns.despine()\n",
    "# plt.savefig(\"../Figures/fig1/fig1f.svg\", bbox_inches='tight')\n",
    "# plt.savefig(\"../Figures/fig1/fig1f.eps\", bbox_inches='tight')\n",
    "# plt.savefig(\"../Figures/fig1/fig1f\", bbox_inches='tight')\n",
    "# plt.savefig(\"../Figures/fig1/fig1f.pdf\", bbox_inches='tight')"
   ]
  },
  {
   "cell_type": "markdown",
   "metadata": {},
   "source": [
    "# Figure 1g"
   ]
  },
  {
   "cell_type": "code",
   "execution_count": 98,
   "metadata": {},
   "outputs": [],
   "source": [
    "# df.head()"
   ]
  },
  {
   "cell_type": "code",
   "execution_count": 99,
   "metadata": {},
   "outputs": [],
   "source": [
    "# df_new=df.sort_values(\"length\")"
   ]
  },
  {
   "cell_type": "code",
   "execution_count": 100,
   "metadata": {},
   "outputs": [],
   "source": [
    "# df_new"
   ]
  },
  {
   "cell_type": "code",
   "execution_count": 101,
   "metadata": {},
   "outputs": [],
   "source": [
    "df.to_csv('../Data/analysis_files/df_fig1.csv',index=False)"
   ]
  },
  {
   "cell_type": "code",
   "execution_count": 102,
   "metadata": {},
   "outputs": [],
   "source": [
    "\n",
    "# fig1g=sns.set_style(\"ticks\")\n",
    "# fig1g=sns.set_context(\"poster\",rc={\"font.size\":30,\"axes.titlesize\":30,\"axes.labelsize\":30})\n",
    "# labels=['Pindel','CLEVER','MiStrVar','indelMINER', 'BioGraph*','Manta','GRIDSS','BreakDancer','true deletions','LUMPY','DELLY','CREST','RDXplorer','PopDel','GASV','GenomeSTRiP']\n",
    "# fig_order=['pindel','clever','mistrvar','indelminer', 'BioGraph*','manta_diploidSV','gridss','breakdancer','true deletions','smoove','delly','crest','rdxplorer','popdel','gasv','genomestrip']\n",
    "\n",
    "# # labels    = ['true deletions','indelminer','sniffles','popdel','mistrvar','lumpy','BioGraph*','breakdancer','delly','gridss','clever','rdxplorer','pindel','gasv']\n",
    "# # fig_order =['true deletions','indelminer','sniffles','popdel','mistrvar','smoove','BioGraph*','breakdancer','delly','gridss','clever','rdxplorer','pindel','gasv']\n",
    "# df[\"Tool\"] = df[\"tool\"].map(dict(zip(fig_order, labels)))\n",
    "# test=df.groupby(\"Tool\")[\"length\"].median()\n",
    "# print(test)\n",
    "# ranks = df.groupby(\"Tool\")[\"length\"].median().fillna(0).sort_values()[::-1].index\n",
    "# print(ranks)\n",
    "# pal = []\n",
    "# for tool in fig_order:\n",
    "#     pal.append(color_map[tool])\n",
    "# fig1g = sns.catplot(x=\"length\", y=\"Tool\",kind='boxen',data=df.sort_values(\"length\"),height=20, aspect=.4, palette=pal,order=labels)\n",
    "# #fig1g = sns.catplot(x=\"tool\", y=\"length\",kind='boxen',data=df, aspect=12, palette=pal, order=fig_order)\n",
    "# # fig1g.invert_yaxis()\n",
    "# fig1g.set(xscale=\"log\");\n",
    "# fig1g.set(ylabel='SV-caller')\n",
    "# fig1g.set(xlabel='Deletion length')\n",
    "# # sns.set(rc={'figure.figsize':(1,1)})\n",
    "# fig1g=sns.despine()\n",
    "# plt.savefig(\"../figures/fig1/fig1g.svg\", bbox_inches='tight')\n",
    "# plt.savefig(\"../figures/fig1/fig1g.eps\", bbox_inches='tight')\n",
    "# plt.savefig(\"../figures/fig1/fig1g\", bbox_inches='tight')\n",
    "# plt.savefig(\"../figures/fig1/fig1g.pdf\", bbox_inches='tight')"
   ]
  }
 ],
 "metadata": {
  "kernelspec": {
   "display_name": "Python 3",
   "language": "python",
   "name": "python3"
  },
  "language_info": {
   "codemirror_mode": {
    "name": "ipython",
    "version": 3
   },
   "file_extension": ".py",
   "mimetype": "text/x-python",
   "name": "python",
   "nbconvert_exporter": "python",
   "pygments_lexer": "ipython3",
   "version": "3.7.6"
  }
 },
 "nbformat": 4,
 "nbformat_minor": 2
}
